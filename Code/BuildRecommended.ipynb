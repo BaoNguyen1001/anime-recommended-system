{
 "cells": [
  {
   "cell_type": "markdown",
   "id": "18eed6b8",
   "metadata": {},
   "source": [
    "# Anime Recommended System"
   ]
  },
  {
   "cell_type": "markdown",
   "id": "b8b15286",
   "metadata": {},
   "source": [
    "## Team member\n",
    "  - Nguyễn Quốc Bảo - 19133002\n",
    "  - Võ Hoàng Khả Diệu - 19133014\n",
    "  \n",
    "  This notebook explains how to use the [Anime Datasets]() to build a movie recommender using [collaborative filtering](https://en.wikipedia.org/wiki/Recommender_system#Collaborative_filtering) with [Spark's Alternating Least Saqures](https://spark.apache.org/docs/latest/api/python/reference/api/pyspark.ml.recommendation.ALS.html) implementation. It is organised in two parts. The first one is about getting and parsing movies and ratings data into Spark RDDs. The second is about building and using the recommender and persisting it for later use in our on-line recommender system. "
   ]
  },
  {
   "cell_type": "markdown",
   "id": "0f6c4c6d",
   "metadata": {},
   "source": [
    "## Getting and processing the data"
   ]
  },
  {
   "cell_type": "code",
   "execution_count": 2,
   "id": "f6542af0",
   "metadata": {},
   "outputs": [],
   "source": [
    "import findspark\n",
    "findspark.init()\n",
    "findspark.find()\n",
    "import pyspark # only run after findspark.init()\n",
    "from pyspark.sql import SparkSession\n",
    "from pyspark.sql import SQLContext\n",
    "from pyspark.sql.types import *\n",
    "from pyspark.ml.evaluation import RegressionEvaluator\n",
    "from pyspark.ml.tuning import CrossValidator, ParamGridBuilder, TrainValidationSplit\n",
    "from pyspark.ml.recommendation import ALS\n",
    "from pyspark.sql import Row\n",
    "from pyspark.sql.functions import col,isnan, when, count\n",
    "import pandas as pd"
   ]
  },
  {
   "cell_type": "code",
   "execution_count": 3,
   "id": "d070782b",
   "metadata": {
    "scrolled": true
   },
   "outputs": [],
   "source": [
    "spark = SparkSession.builder \\\n",
    "    .appName(\"Anime recommendation\") \\\n",
    "    .enableHiveSupport() \\\n",
    "    .getOrCreate()"
   ]
  },
  {
   "cell_type": "code",
   "execution_count": 5,
   "id": "262457ce",
   "metadata": {},
   "outputs": [],
   "source": [
    "sc = spark.sparkContext\n",
    "sqlContext = SQLContext(sc)\n",
    "import os"
   ]
  },
  {
   "cell_type": "markdown",
   "id": "d7613bb7",
   "metadata": {},
   "source": [
    "### Loading and parsing datasets"
   ]
  },
  {
   "cell_type": "markdown",
   "id": "35247c14",
   "metadata": {},
   "source": [
    "Now we are ready to read in each of the files and create an RDD consisting of parsed lines."
   ]
  },
  {
   "cell_type": "markdown",
   "id": "eea023ba",
   "metadata": {},
   "source": [
    "Each line in the rating_change dataset (`rating_change.csv`) is formatted as:  \n",
    "\n",
    "`user_id, anime_id, rating` \n",
    "\n",
    "(The `rating_change.csv` was handled and processed data from `rating.csv` at EDA part.)\n",
    "\n",
    "Each line in the animes (`anime.csv`) dataset is formatted as:  \n",
    "\n",
    "`anime_id, name, genre`"
   ]
  },
  {
   "cell_type": "code",
   "execution_count": 6,
   "id": "727be259",
   "metadata": {},
   "outputs": [],
   "source": [
    "datasets_path = os.path.join('../data')\n",
    "rating_file_path = os.path.join(datasets_path, 'rating_change.csv');\n",
    "rating_raw_RDD = sc.textFile(rating_file_path)\n",
    "anime_file_path = os.path.join(datasets_path, 'anime.csv')\n",
    "anime_raw_RDD = sc.textFile(anime_file_path)"
   ]
  },
  {
   "cell_type": "markdown",
   "id": "da788090",
   "metadata": {},
   "source": [
    "So let's load the raw ratings data. We need to filter out the header, included in each file."
   ]
  },
  {
   "cell_type": "code",
   "execution_count": 9,
   "id": "4edaafe5",
   "metadata": {},
   "outputs": [],
   "source": [
    "rating_data_raw_header = rating_raw_RDD.take(1)[0]\n",
    "anime_data_raw_header = anime_raw_RDD.take(1)[0]"
   ]
  },
  {
   "cell_type": "markdown",
   "id": "33cd8a44",
   "metadata": {},
   "source": [
    "Now we can parse the raw data into a new RDD.  "
   ]
  },
  {
   "cell_type": "code",
   "execution_count": 10,
   "id": "78b21ce2",
   "metadata": {},
   "outputs": [],
   "source": [
    "rating_RDD = rating_raw_RDD.filter(lambda line: line!=rating_data_raw_header)\\\n",
    "    .map(lambda line: line.split(\",\")).map(lambda tokens: (int(tokens[0]), int(tokens[1]), int(tokens[2]))).cache()\n",
    "anime_title_RDD = anime_raw_RDD.filter(lambda line: line!=anime_data_raw_header)\\\n",
    "    .map(lambda line: line.split(\",\")).map(lambda x: (int(x[0]), x[1])).cache()"
   ]
  },
  {
   "cell_type": "markdown",
   "id": "04c0a01c",
   "metadata": {},
   "source": [
    "Count and first 5 rows in each RDD"
   ]
  },
  {
   "cell_type": "code",
   "execution_count": 23,
   "id": "46168223",
   "metadata": {},
   "outputs": [
    {
     "data": {
      "text/plain": [
       "5868892"
      ]
     },
     "execution_count": 23,
     "metadata": {},
     "output_type": "execute_result"
    }
   ],
   "source": [
    "rating_RDD.count()"
   ]
  },
  {
   "cell_type": "code",
   "execution_count": 20,
   "id": "b2c91a8c",
   "metadata": {},
   "outputs": [
    {
     "data": {
      "text/plain": [
       "[(1, 8074, 5), (1, 11617, 5), (1, 11757, 5), (1, 15451, 5), (2, 11771, 5)]"
      ]
     },
     "execution_count": 20,
     "metadata": {},
     "output_type": "execute_result"
    }
   ],
   "source": [
    "rating_RDD.take(5)"
   ]
  },
  {
   "cell_type": "code",
   "execution_count": 21,
   "id": "352c5a7e",
   "metadata": {},
   "outputs": [
    {
     "data": {
      "text/plain": [
       "12294"
      ]
     },
     "execution_count": 21,
     "metadata": {},
     "output_type": "execute_result"
    }
   ],
   "source": [
    "anime_title_RDD.count()"
   ]
  },
  {
   "cell_type": "code",
   "execution_count": 12,
   "id": "d07f92c7",
   "metadata": {},
   "outputs": [
    {
     "data": {
      "text/plain": [
       "[(32281, 'Kimi no Na wa.'),\n",
       " (5114, 'Fullmetal Alchemist: Brotherhood'),\n",
       " (28977, 'Gintama°'),\n",
       " (9253, 'Steins;Gate'),\n",
       " (9969, 'Gintama&#039;')]"
      ]
     },
     "execution_count": 12,
     "metadata": {},
     "output_type": "execute_result"
    }
   ],
   "source": [
    "anime_title_RDD.take(5)"
   ]
  },
  {
   "cell_type": "markdown",
   "id": "9109bdd1",
   "metadata": {},
   "source": [
    "Create dataframe from rdd for process recommendation system by spark dataframe"
   ]
  },
  {
   "cell_type": "code",
   "execution_count": 20,
   "id": "d0d5e5a1",
   "metadata": {},
   "outputs": [],
   "source": [
    "ratings_df = spark.createDataFrame(data = rating_RDD, schema = [\"user_id\", \"anime_id\", \"rating\"])"
   ]
  },
  {
   "cell_type": "code",
   "execution_count": 19,
   "id": "e7bab5d0",
   "metadata": {},
   "outputs": [
    {
     "name": "stdout",
     "output_type": "stream",
     "text": [
      "+-------+--------+------+\n",
      "|user_id|anime_id|rating|\n",
      "+-------+--------+------+\n",
      "|      1|    8074|     5|\n",
      "|      1|   11617|     5|\n",
      "|      1|   11757|     5|\n",
      "|      1|   15451|     5|\n",
      "|      2|   11771|     5|\n",
      "+-------+--------+------+\n",
      "only showing top 5 rows\n",
      "\n"
     ]
    }
   ],
   "source": [
    "ratings_df.show(5)"
   ]
  },
  {
   "cell_type": "code",
   "execution_count": null,
   "id": "41d5a012",
   "metadata": {},
   "outputs": [],
   "source": [
    "animes_df = spark.createDataFrame(data = anime_title_RDD, sc)"
   ]
  },
  {
   "cell_type": "markdown",
   "id": "742c73bd",
   "metadata": {},
   "source": [
    "## Building and using the Recommended system"
   ]
  },
  {
   "cell_type": "markdown",
   "id": "15e78697",
   "metadata": {},
   "source": [
    "### Collaborative Filtering - ALS"
   ]
  },
  {
   "cell_type": "markdown",
   "id": "5083a08e",
   "metadata": {},
   "source": [
    "Split rating data into 3 parts: Training, Validation and Testing with radio 6:2:2"
   ]
  },
  {
   "cell_type": "code",
   "execution_count": 21,
   "id": "8f2c4ee1",
   "metadata": {},
   "outputs": [],
   "source": [
    "(training, validation, testing) = ratings_df.randomSplit([0.6, 0.2, 0.2])"
   ]
  },
  {
   "cell_type": "markdown",
   "id": "7c6dfeb0",
   "metadata": {},
   "source": [
    "#### Build & Training model"
   ]
  },
  {
   "cell_type": "markdown",
   "id": "cb9fef05",
   "metadata": {},
   "source": [
    "Now we will proceed training phrase"
   ]
  },
  {
   "cell_type": "markdown",
   "id": "1b4cb932",
   "metadata": {},
   "source": [
    "In training phrase, we will tuning parameters to choose the best model with Root Mean Squared Error (RMSE) is lowest possible.\n",
    "\n",
    "The parameters we used in this model: `ranks`, `maxIters`, `regParams`"
   ]
  },
  {
   "cell_type": "code",
   "execution_count": 28,
   "id": "ba7b9486",
   "metadata": {},
   "outputs": [],
   "source": [
    "ranks = [8, 12]\n",
    "maxIters = [5, 10]\n",
    "regParams = [0.1, 0.01]\n",
    "bestParams = [-1, -1, -1]\n",
    "min_error = float('inf')"
   ]
  },
  {
   "cell_type": "code",
   "execution_count": 23,
   "id": "af260e6b",
   "metadata": {},
   "outputs": [
    {
     "name": "stdout",
     "output_type": "stream",
     "text": [
      "Execute time 0:01:24.056598\n",
      "Rank: 8, maxIter: 5, regParam: 0.1, RMSE: 0.9495164208810919\n",
      "Execute time 0:01:01.960883\n",
      "Rank: 8, maxIter: 5, regParam: 0.01, RMSE: 0.9835134803838274\n",
      "Execute time 0:01:13.352696\n",
      "Rank: 8, maxIter: 10, regParam: 0.1, RMSE: 0.9454070515172769\n",
      "Execute time 0:01:09.533617\n",
      "Rank: 8, maxIter: 10, regParam: 0.01, RMSE: 0.9849855122987078\n",
      "Execute time 0:01:08.960076\n",
      "Rank: 12, maxIter: 5, regParam: 0.1, RMSE: 0.9561809928480054\n",
      "Execute time 0:01:04.636614\n",
      "Rank: 12, maxIter: 5, regParam: 0.01, RMSE: 1.003703459426759\n",
      "Execute time 0:01:16.951480\n",
      "Rank: 12, maxIter: 10, regParam: 0.1, RMSE: 0.9449057402086288\n",
      "Execute time 0:01:20.487655\n",
      "Rank: 12, maxIter: 10, regParam: 0.01, RMSE: 1.0124456615310247\n"
     ]
    }
   ],
   "source": [
    "from datetime import datetime\n",
    "for rank in ranks:\n",
    "    for maxIter in maxIters:\n",
    "        for regParam in regParams:\n",
    "            start_time = datetime.now()\n",
    "            als = ALS(rank=rank, maxIter=maxIter, regParam=regParam, userCol=\"user_id\", itemCol=\"anime_id\", ratingCol=\"rating\")\n",
    "            model = als.fit(training)\n",
    "            model.setColdStartStrategy(\"drop\");\n",
    "            predictions = model.transform(validation)\n",
    "            evaluator = RegressionEvaluator(metricName=\"rmse\", labelCol=\"rating\",\n",
    "                                           predictionCol=\"prediction\")\n",
    "            rmse = evaluator.evaluate(predictions)\n",
    "            end_time = datetime.now()\n",
    "            if(rmse < min_error):\n",
    "                min_error = rmse\n",
    "                bestParams = [rank, maxIter, regParam]\n",
    "            print('Execute time {}'.format(end_time - start_time))\n",
    "            print('Rank: %s, maxIter: %s, regParam: %s, RMSE: %s' % (rank, maxIter, regParam, str(rmse)))"
   ]
  },
  {
   "cell_type": "markdown",
   "id": "82f8ff99",
   "metadata": {},
   "source": [
    "After tuning parameters, we got the best parameter for final model."
   ]
  },
  {
   "cell_type": "code",
   "execution_count": 31,
   "id": "be8a275f",
   "metadata": {},
   "outputs": [
    {
     "data": {
      "text/plain": [
       "[12, 10, 0.1]"
      ]
     },
     "execution_count": 31,
     "metadata": {},
     "output_type": "execute_result"
    }
   ],
   "source": [
    "bestParams"
   ]
  },
  {
   "cell_type": "markdown",
   "id": "17537412",
   "metadata": {},
   "source": [
    "The above values are respectively: `rank`, `maxIter` and `regParam`"
   ]
  },
  {
   "cell_type": "markdown",
   "id": "770da5fc",
   "metadata": {},
   "source": [
    "#### Build & Test the final model"
   ]
  },
  {
   "cell_type": "markdown",
   "id": "7d878557",
   "metadata": {},
   "source": [
    "Use the best params to build the final model"
   ]
  },
  {
   "cell_type": "code",
   "execution_count": 32,
   "id": "cee2cb74",
   "metadata": {},
   "outputs": [
    {
     "name": "stdout",
     "output_type": "stream",
     "text": [
      "Execute time 0:00:45.731202\n"
     ]
    }
   ],
   "source": [
    "start_time = datetime.now()\n",
    "best_ALS = ALS(rank=bestParams[0], maxIter=bestParams[1], regParam=bestParams[2], userCol=\"user_id\", itemCol=\"anime_id\", ratingCol=\"rating\")\n",
    "best_model = als.fit(testing)\n",
    "end_time = datetime.now()\n",
    "print('Execute time {}'.format(end_time - start_time))"
   ]
  },
  {
   "cell_type": "markdown",
   "id": "4156013a",
   "metadata": {},
   "source": [
    "Now we will test the final model by our testing data"
   ]
  },
  {
   "cell_type": "code",
   "execution_count": 33,
   "id": "f72a7fe3",
   "metadata": {},
   "outputs": [
    {
     "name": "stdout",
     "output_type": "stream",
     "text": [
      "Root-mean-square error = 0.6266904331154174\n"
     ]
    }
   ],
   "source": [
    "best_model.setColdStartStrategy(\"drop\");\n",
    "predictions = best_model.transform(testing)\n",
    "evaluator = RegressionEvaluator(metricName=\"rmse\", labelCol=\"rating\",\n",
    "                               predictionCol=\"prediction\")\n",
    "rmse = evaluator.evaluate(predictions)\n",
    "print(\"Root-mean-square error = \" + str(rmse))"
   ]
  },
  {
   "cell_type": "markdown",
   "id": "9072aa49",
   "metadata": {},
   "source": [
    "Although we aim at building an on-line anime recommender, now that we know how to have our recommender model ready, we can give it a try providing some anime recommendations. This will help us coiding the recommending engine later on when building the web service, and will explain how to use the model in any other circumstances."
   ]
  },
  {
   "cell_type": "markdown",
   "id": "1160bb6a",
   "metadata": {},
   "source": [
    "When using collaborative filtering, getting recommendations is not as simple as predicting for the new entries using a previously generated model. Instead, we need to train again the model but including the new user preferences in order to compare them with other users in the dataset. That is, the recommender needs to be trained every time we have new user ratings (although a single model can be used by multiple users of course!). This makes the process expensive, and it is one of the reasons why scalability is a problem (and Spark a solution!). Once we have our model trained, we can reuse it to obtain top recomendations for a given user or an individual rating for a particular movie. These are less costly operations than training the model itself.    "
   ]
  },
  {
   "cell_type": "markdown",
   "id": "f009a40e",
   "metadata": {},
   "source": [
    "#### Using the model for recommended system"
   ]
  },
  {
   "cell_type": "markdown",
   "id": "e6786514",
   "metadata": {},
   "source": [
    "Here, we will try to build a feature to recommend top 10 anime for a user (Example: user_id = 215)"
   ]
  },
  {
   "cell_type": "code",
   "execution_count": 58,
   "id": "09a0ae70",
   "metadata": {
    "scrolled": true
   },
   "outputs": [],
   "source": [
    "user_subset = ratings_df.where(ratings_df.user_id == 215)\n",
    "user_subset_recs = model.recommendForUserSubset(user_subset, 10)\n",
    "list_user_predictions = list(user_subset_recs.select('recommendations').toPandas()['recommendations'])\n",
    "user_prediction_rdd = sc.parallelize(list_user_predictions[0])"
   ]
  },
  {
   "cell_type": "markdown",
   "id": "0146aae4",
   "metadata": {},
   "source": [
    "`recommendForUserSubset` is a function of ALS is provided by package `ml`. It will take out the top 10 anime with the highest rating prediction and recommend to users."
   ]
  },
  {
   "cell_type": "code",
   "execution_count": 61,
   "id": "b684ab5d",
   "metadata": {},
   "outputs": [],
   "source": [
    "#Join name of Anime into a new list\n",
    "list_complete_user_prediction = user_prediction_rdd.join(anime_title_RDD) \\\n",
    "    .map(lambda x: (x[0], x[1][1], x[1][0])) \\\n",
    "    .takeOrdered(10, key=lambda x: -x[2])"
   ]
  },
  {
   "cell_type": "code",
   "execution_count": 71,
   "id": "e3e4a9b2",
   "metadata": {},
   "outputs": [],
   "source": [
    "# Change list to dataframe\n",
    "user_subset_recs_columns = [\"anime_id\",\"name\", \"rating\"]\n",
    "user_subset_recs_DF = spark.createDataFrame(data=list_complete_user_prediction, schema = user_subset_recs_columns)"
   ]
  },
  {
   "cell_type": "code",
   "execution_count": 125,
   "id": "c95d9929",
   "metadata": {},
   "outputs": [
    {
     "name": "stdout",
     "output_type": "stream",
     "text": [
      "Top 10 anime recommended for userID is 215\n",
      "+--------+--------------------+-----------------+\n",
      "|anime_id|                name|           rating|\n",
      "+--------+--------------------+-----------------+\n",
      "|    7416|              Socket|6.557953357696533|\n",
      "|   32400|           KochinPa!|6.261995792388916|\n",
      "|   29978|                 001|6.244216442108154|\n",
      "|   29995|The Embryo Develo...|6.110090732574463|\n",
      "|    7485|      Urashima Tarou|6.042207717895508|\n",
      "|   22059|Kakumeiteki Broad...|5.638498306274414|\n",
      "|   22615|Kero Kero Keroppi...|5.526596546173096|\n",
      "|   22445|Hello Kitty no Ya...|5.526596546173096|\n",
      "|   17985|Kero Kero Keroppi...|5.526596546173096|\n",
      "|   22607|Ahiru no Pekkle n...|5.526596546173096|\n",
      "+--------+--------------------+-----------------+\n",
      "\n",
      "None\n"
     ]
    }
   ],
   "source": [
    "# Show output\n",
    "print(\"Top 10 anime recommended for userID is \" + str(user_subset.collect()[0][0]))\n",
    "print(user_subset_recs_DF.show(10))"
   ]
  },
  {
   "cell_type": "markdown",
   "id": "34e62aba",
   "metadata": {},
   "source": [
    "The above result is the top 10 anime with highest rating prediction for user 215"
   ]
  },
  {
   "cell_type": "markdown",
   "id": "218e98ec",
   "metadata": {},
   "source": [
    "#### Persisting the model"
   ]
  },
  {
   "cell_type": "code",
   "execution_count": 122,
   "id": "fadd0989",
   "metadata": {},
   "outputs": [],
   "source": [
    "model_path = os.path.join('model') + \"/als_model\"\n",
    "model.save(model_path)"
   ]
  },
  {
   "cell_type": "markdown",
   "id": "27081ba2",
   "metadata": {},
   "source": [
    "### Content-base Filtering"
   ]
  },
  {
   "cell_type": "markdown",
   "id": "9d95e16a",
   "metadata": {},
   "source": [
    "With Content-base, we will sklearn package for process and handle data and build model for prediction."
   ]
  },
  {
   "cell_type": "code",
   "execution_count": 7,
   "id": "d9f18eb5",
   "metadata": {},
   "outputs": [],
   "source": [
    "from sklearn.metrics.pairwise import linear_kernel\n",
    "from sklearn.feature_extraction.text import TfidfVectorizer\n",
    "from itertools import combinations\n",
    "from sklearn.linear_model import Ridge\n",
    "from sklearn import linear_model\n",
    "from sklearn.model_selection import train_test_split\n",
    "import numpy as np\n",
    "import math"
   ]
  },
  {
   "cell_type": "markdown",
   "id": "5547cd32",
   "metadata": {},
   "source": [
    "#### Loading and processing data"
   ]
  },
  {
   "cell_type": "code",
   "execution_count": 8,
   "id": "f12a2820",
   "metadata": {
    "scrolled": true
   },
   "outputs": [
    {
     "name": "stdout",
     "output_type": "stream",
     "text": [
      "Number of item:  12017\n"
     ]
    }
   ],
   "source": [
    "#Reading anime file:\n",
    "animeDF = pd.read_csv(anime_file_path, sep=',', encoding='latin-1')\n",
    "animeDF.dropna(inplace=True)\n",
    "list_anime = animeDF[\"anime_id\"].to_numpy()\n",
    "#Get n_items\n",
    "n_items = animeDF.shape[0]\n",
    "print(\"Number of item: \", n_items)"
   ]
  },
  {
   "cell_type": "code",
   "execution_count": 68,
   "id": "e38d1fa2",
   "metadata": {},
   "outputs": [
    {
     "data": {
      "text/plain": [
       "(5868859, 3)"
      ]
     },
     "execution_count": 68,
     "metadata": {},
     "output_type": "execute_result"
    }
   ],
   "source": [
    "#Reading rating file:\n",
    "ratingDF = pd.read_csv(rating_file_path, sep=',', encoding='latin-1')\n",
    "ratingDF.dropna(inplace=True)\n",
    "ratingDF = ratingDF[ratingDF.anime_id.isin(animeDF.anime_id)]\n",
    "ratingDF.shape"
   ]
  },
  {
   "cell_type": "markdown",
   "id": "37adbe80",
   "metadata": {},
   "source": [
    "Split rating data into 2 parts: Training and Testing with radio 8:2"
   ]
  },
  {
   "cell_type": "code",
   "execution_count": 10,
   "id": "33b0de5c",
   "metadata": {},
   "outputs": [],
   "source": [
    "# Chia tập train & tập test theo tỉ lệ 8 : 2\n",
    "train, test = train_test_split(ratingDF, test_size=0.2)"
   ]
  },
  {
   "cell_type": "markdown",
   "id": "36b8ab1c",
   "metadata": {},
   "source": [
    "#### Build Item profile use TF-IDF"
   ]
  },
  {
   "cell_type": "markdown",
   "id": "f6fc9df7",
   "metadata": {},
   "source": [
    "An important job in a content-based recommendation system is to build a profile for each item, i.e. a feature vector for each item. Because we are based on the genre of the movie to build the profile so we just need to care about the genre of movies"
   ]
  },
  {
   "cell_type": "markdown",
   "id": "48bb8786",
   "metadata": {},
   "source": [
    "We will build feature vector for each item based on anime genre matrix and feature TF-IDF"
   ]
  },
  {
   "cell_type": "code",
   "execution_count": 11,
   "id": "1c670595",
   "metadata": {},
   "outputs": [
    {
     "name": "stdout",
     "output_type": "stream",
     "text": [
      "Number of genre:  (12017, 43)\n"
     ]
    }
   ],
   "source": [
    "tf = TfidfVectorizer(analyzer=lambda s: (c for i in range(1,2)\n",
    "                                             for c in combinations(s.split(', '), r=i)))\n",
    "tfidf = tf.fit_transform(animeDF['genre']).toarray()\n",
    "print(\"Number of genre: \", tfidf.shape)"
   ]
  },
  {
   "cell_type": "markdown",
   "id": "e3559281",
   "metadata": {},
   "source": [
    "After this step, each row of TF-IDF corresponds to the feature vector of a anime."
   ]
  },
  {
   "cell_type": "code",
   "execution_count": 12,
   "id": "7bfbd24d",
   "metadata": {},
   "outputs": [
    {
     "data": {
      "text/plain": [
       "array([[0.        , 0.        , 0.        , ..., 0.        , 0.        ,\n",
       "        0.        ],\n",
       "       [0.29453722, 0.3158063 , 0.        , ..., 0.        , 0.        ,\n",
       "        0.        ],\n",
       "       [0.262021  , 0.        , 0.        , ..., 0.        , 0.        ,\n",
       "        0.        ],\n",
       "       ...,\n",
       "       [0.        , 0.        , 0.        , ..., 0.        , 0.        ,\n",
       "        0.        ],\n",
       "       [0.        , 0.        , 0.        , ..., 0.        , 0.        ,\n",
       "        0.        ],\n",
       "       [0.        , 0.        , 0.        , ..., 0.        , 0.        ,\n",
       "        0.        ]])"
      ]
     },
     "execution_count": 12,
     "metadata": {},
     "output_type": "execute_result"
    }
   ],
   "source": [
    "tfidf"
   ]
  },
  {
   "cell_type": "markdown",
   "id": "e7ca69f1",
   "metadata": {},
   "source": [
    "Next step, for each user, we need to find what animes that user has rated, and the value of those ratings."
   ]
  },
  {
   "cell_type": "code",
   "execution_count": 13,
   "id": "260ff941",
   "metadata": {},
   "outputs": [],
   "source": [
    "def get_items_rated_by_user(rate_matrix, user_id):\n",
    "    \"\"\"\n",
    "    return (items_index, scores)\n",
    "    \"\"\"\n",
    "    y = rate_matrix[:,0] # all users\n",
    "    # item indices rated by user_id\n",
    "    ids = np.where(y == user_id)[0]\n",
    "    item_ids = rate_matrix[ids,1]\n",
    "    items_index = get_items_index(item_ids)\n",
    "    #Rated score of user-item\n",
    "    scores = rate_matrix[ids, 2]\n",
    "    return (items_index, scores)"
   ]
  },
  {
   "cell_type": "code",
   "execution_count": 14,
   "id": "815ac8bf",
   "metadata": {},
   "outputs": [],
   "source": [
    "def get_items_index(item_ids):\n",
    "    items_index = []\n",
    "    for i in item_ids:\n",
    "        item = np.where(list_anime == i)[0][0]\n",
    "        items_index.append(item)\n",
    "    return np.array(items_index)"
   ]
  },
  {
   "cell_type": "code",
   "execution_count": 15,
   "id": "18a2af03",
   "metadata": {},
   "outputs": [],
   "source": [
    "def get_user_index(list_users, user_id):\n",
    "    user_index = np.where(list_users == user_id)\n",
    "    return user_index[0][0]"
   ]
  },
  {
   "attachments": {
    "image.png": {
     "image/png": "[encoded data removed]"
    }
   },
   "cell_type": "markdown",
   "id": "2ed6200e",
   "metadata": {},
   "source": [
    "Countinues, we will build a loss function used Ridge Regression with linear model\n",
    "                            ![image.png](attachment:image.png)"
   ]
  },
  {
   "cell_type": "code",
   "execution_count": 16,
   "id": "fe16fe48",
   "metadata": {},
   "outputs": [],
   "source": [
    "list_users = train[\"user_id\"].unique()\n",
    "#list_users = ratingDF[\"user_id\"].unique()\n",
    "n_users = list_users.shape[0]\n",
    "rate_train = train.values\n",
    "d = tfidf.shape[1] # data dimension\n",
    "W = np.zeros((d, n_users), dtype=\"float32\")\n",
    "b = np.zeros((1, n_users), dtype=\"float32\")"
   ]
  },
  {
   "cell_type": "markdown",
   "id": "295723e5",
   "metadata": {},
   "source": [
    "Now, we can find the Ridge Regression coefficients for each user."
   ]
  },
  {
   "cell_type": "code",
   "execution_count": 17,
   "id": "14a5e8cf",
   "metadata": {},
   "outputs": [],
   "source": [
    "for n in list_users:\n",
    "    user_index = get_user_index(list_users, n)\n",
    "    items_index, scores = get_items_rated_by_user(rate_train, n)\n",
    "    clf = Ridge(alpha=0.01, fit_intercept  = True)\n",
    "    Xhat = tfidf[items_index, :]\n",
    "    clf.fit(Xhat, scores)\n",
    "    W[:, user_index] = clf.coef_\n",
    "    b[0, user_index] = clf.intercept_"
   ]
  },
  {
   "cell_type": "markdown",
   "id": "a119e3c9",
   "metadata": {},
   "source": [
    "After calculating the W and b coefficients, the ratings for each item are predicted by calculating:"
   ]
  },
  {
   "cell_type": "code",
   "execution_count": 18,
   "id": "0551ce43",
   "metadata": {},
   "outputs": [],
   "source": [
    "Yhat = tfidf.dot(W) + b"
   ]
  },
  {
   "cell_type": "code",
   "execution_count": 19,
   "id": "5d48327e",
   "metadata": {},
   "outputs": [
    {
     "data": {
      "text/plain": [
       "array([[4.44175871, 4.34551252, 4.79630019, ..., 4.        , 2.        ,\n",
       "        5.        ],\n",
       "       [4.78237046, 3.85528238, 3.59884363, ..., 4.        , 2.        ,\n",
       "        5.        ],\n",
       "       [2.48299593, 2.40615728, 3.87882531, ..., 4.        , 2.        ,\n",
       "        5.        ],\n",
       "       ...,\n",
       "       [0.76868951, 2.9963994 , 3.32303715, ..., 4.        , 2.        ,\n",
       "        5.        ],\n",
       "       [0.76868951, 2.9963994 , 3.32303715, ..., 4.        , 2.        ,\n",
       "        5.        ],\n",
       "       [0.76868951, 2.9963994 , 3.32303715, ..., 4.        , 2.        ,\n",
       "        5.        ]])"
      ]
     },
     "execution_count": 19,
     "metadata": {},
     "output_type": "execute_result"
    }
   ],
   "source": [
    "Yhat"
   ]
  },
  {
   "cell_type": "markdown",
   "id": "729edf26",
   "metadata": {},
   "source": [
    "Here is an example with a user whose id is 3."
   ]
  },
  {
   "cell_type": "code",
   "execution_count": 20,
   "id": "e3fa6ca3",
   "metadata": {},
   "outputs": [
    {
     "name": "stdout",
     "output_type": "stream",
     "text": [
      "Rated movies ids: [1413 3287   40 1886 1104  841   58 2892 2945  723  804  704    1  118\n",
      " 3032  101 5876  440  122 3593 1518 2035  708  138   14 4212 1013  206\n",
      " 3342  324  971 1220 1620 3219  339 2132  374 3191  199 1834  141  775\n",
      "  643 4211  687   57  127  365 2922  342 2164 1130 3632   86  268   79\n",
      " 1067  186 1213 1709  288 1558  616  411 2656   15]\n",
      "True ratings: [3 1 5 1 3 3 5 2 2 2 4 2 5 4 2 5 1 3 5 3 3 3 4 3 4 2 3 5 2 3 2 2 1 2 3 2 2\n",
      " 2 1 2 3 3 3 1 2 5 4 3 2 3 2 2 2 5 5 4 3 2 2 1 3 2 5 3 2 5]\n",
      "Predicted ratings: [3.03460312 2.18815671 4.87929876 1.00643351 3.10536386 3.2384853\n",
      " 4.18232502 2.18469668 3.1873412  3.58031666 2.86347938 2.51301026\n",
      " 3.57995944 2.99388548 2.34020228 3.77778439 1.32255416 4.01435145\n",
      " 4.18232502 3.05125988 2.76320355 2.18469668 3.40540345 4.09154111\n",
      " 4.15035834 2.02373474 3.1873412  4.66376317 2.47195026 3.35994113\n",
      " 2.05754858 1.95956373 1.09712119 3.05125988 2.86413153 2.86347938\n",
      " 3.00359026 2.09849571 1.42989549 2.02373474 3.37920833 3.63969855\n",
      " 2.51301026 2.02373474 2.02373474 3.85578246 4.09154111 2.67515457\n",
      " 2.34020228 2.31308337 2.18469668 1.98293976 3.05125988 2.56604548\n",
      " 3.77778439 4.15035834 2.02373474 2.61811499 2.72616333 1.1694842\n",
      " 3.45753532 3.34401921 2.02373474 3.29782813 2.02373474 3.77083417]\n"
     ]
    }
   ],
   "source": [
    "#Example\n",
    "user_id = 3\n",
    "user_index = get_user_index(list_users, user_id)\n",
    "ids, scores = get_items_rated_by_user(rate_train, user_id)\n",
    "print('Rated movies ids:', ids)\n",
    "print('True ratings:', scores)\n",
    "print('Predicted ratings:', Yhat[ids, user_index])"
   ]
  },
  {
   "cell_type": "markdown",
   "id": "06b90ded",
   "metadata": {},
   "source": [
    "#### Model evaluation"
   ]
  },
  {
   "cell_type": "markdown",
   "id": "ffcca76b",
   "metadata": {},
   "source": [
    "To evaluate the found model, we aslo use the Root Mean Squared Error (RMSE), which is the square root of the mean squared error. The error is calculated as the difference of true rating and predicted rating:"
   ]
  },
  {
   "cell_type": "code",
   "execution_count": 101,
   "id": "01cb84f6",
   "metadata": {},
   "outputs": [],
   "source": [
    "def evaluate(Yhat, rates, W, b, list_users):\n",
    "    se = 0\n",
    "    cnt = 0\n",
    "    for n in list_users:\n",
    "        user_index = get_user_index(list_users, n)\n",
    "        ids, scores_truth = get_items_rated_by_user(rates, n)\n",
    "        scores_pred = Yhat[ids, user_index]\n",
    "        e = scores_truth - scores_pred \n",
    "        se += (e*e).sum(axis = 0)\n",
    "        cnt += e.size \n",
    "    return math.sqrt(se/cnt)"
   ]
  },
  {
   "cell_type": "code",
   "execution_count": 102,
   "id": "7b4a567a",
   "metadata": {},
   "outputs": [
    {
     "name": "stdout",
     "output_type": "stream",
     "text": [
      "RMSE for training: 0.8021310281350346\n"
     ]
    }
   ],
   "source": [
    "list_users_train = train[\"user_id\"].unique()\n",
    "print('RMSE for training:', evaluate(Yhat, rate_train, W, b, list_users_train))"
   ]
  },
  {
   "cell_type": "code",
   "execution_count": 103,
   "id": "5e932beb",
   "metadata": {},
   "outputs": [
    {
     "name": "stdout",
     "output_type": "stream",
     "text": [
      "RMSE for test    : 1.7823851453314659\n"
     ]
    }
   ],
   "source": [
    "rate_test = test.values\n",
    "list_users_test = test[\"user_id\"].unique()\n",
    "print('RMSE for test    :', evaluate(Yhat, rate_test, W, b, list_users_test))"
   ]
  },
  {
   "cell_type": "markdown",
   "id": "7b049d9e",
   "metadata": {},
   "source": [
    "So, with the training set, the error is about 0.8 stars; with the test set, the error is a bit larger, about 1.77. We see that this result is not really good because we have simplified the model too much"
   ]
  },
  {
   "cell_type": "markdown",
   "id": "c97ebf1a",
   "metadata": {},
   "source": [
    "#### Using the model for recommended system"
   ]
  },
  {
   "cell_type": "markdown",
   "id": "461d41cf",
   "metadata": {},
   "source": [
    "We will try recommend top 20 anime for a user with Content-base-filtering (Example: user_id = 3)"
   ]
  },
  {
   "cell_type": "code",
   "execution_count": 112,
   "id": "4883c0a1",
   "metadata": {},
   "outputs": [],
   "source": [
    "user_id = 3\n",
    "user_direct_rating = Yhat[:, user_id]\n",
    "top_10 = user_direct_rating.argsort()[-20:][::-1]"
   ]
  },
  {
   "cell_type": "code",
   "execution_count": 113,
   "id": "80c1d8fe",
   "metadata": {},
   "outputs": [
    {
     "data": {
      "text/html": [
       "<div>\n",
       "<style scoped>\n",
       "    .dataframe tbody tr th:only-of-type {\n",
       "        vertical-align: middle;\n",
       "    }\n",
       "\n",
       "    .dataframe tbody tr th {\n",
       "        vertical-align: top;\n",
       "    }\n",
       "\n",
       "    .dataframe thead th {\n",
       "        text-align: right;\n",
       "    }\n",
       "</style>\n",
       "<table border=\"1\" class=\"dataframe\">\n",
       "  <thead>\n",
       "    <tr style=\"text-align: right;\">\n",
       "      <th></th>\n",
       "      <th>anime_id</th>\n",
       "      <th>name</th>\n",
       "      <th>genre</th>\n",
       "      <th>type</th>\n",
       "      <th>episodes</th>\n",
       "      <th>rating</th>\n",
       "      <th>members</th>\n",
       "    </tr>\n",
       "  </thead>\n",
       "  <tbody>\n",
       "    <tr>\n",
       "      <th>4109</th>\n",
       "      <td>18851</td>\n",
       "      <td>Fate/kaleid liner PrismaâIllya: Undoukai de ...</td>\n",
       "      <td>Comedy, Fantasy, Magic</td>\n",
       "      <td>OVA</td>\n",
       "      <td>1</td>\n",
       "      <td>6.80</td>\n",
       "      <td>22543</td>\n",
       "    </tr>\n",
       "    <tr>\n",
       "      <th>2889</th>\n",
       "      <td>5520</td>\n",
       "      <td>Onegai My Melody Sukkiriâª</td>\n",
       "      <td>Comedy, Fantasy, Magic</td>\n",
       "      <td>TV</td>\n",
       "      <td>52</td>\n",
       "      <td>7.14</td>\n",
       "      <td>966</td>\n",
       "    </tr>\n",
       "    <tr>\n",
       "      <th>5579</th>\n",
       "      <td>17681</td>\n",
       "      <td>Zettai Bouei Leviathan</td>\n",
       "      <td>Comedy, Fantasy, Magic</td>\n",
       "      <td>TV</td>\n",
       "      <td>13</td>\n",
       "      <td>6.42</td>\n",
       "      <td>18202</td>\n",
       "    </tr>\n",
       "    <tr>\n",
       "      <th>2659</th>\n",
       "      <td>32094</td>\n",
       "      <td>Reikenzan: Hoshikuzu-tachi no Utage</td>\n",
       "      <td>Comedy, Fantasy, Magic</td>\n",
       "      <td>TV</td>\n",
       "      <td>12</td>\n",
       "      <td>7.20</td>\n",
       "      <td>30153</td>\n",
       "    </tr>\n",
       "    <tr>\n",
       "      <th>5001</th>\n",
       "      <td>5938</td>\n",
       "      <td>OnegaiâªMy Melody Kiraraâ</td>\n",
       "      <td>Comedy, Fantasy, Magic</td>\n",
       "      <td>TV</td>\n",
       "      <td>52</td>\n",
       "      <td>6.58</td>\n",
       "      <td>741</td>\n",
       "    </tr>\n",
       "    <tr>\n",
       "      <th>6504</th>\n",
       "      <td>19397</td>\n",
       "      <td>Zettai Bouei Leviathan: Mini Takibi Gekijou</td>\n",
       "      <td>Comedy, Fantasy, Magic</td>\n",
       "      <td>Special</td>\n",
       "      <td>13</td>\n",
       "      <td>6.09</td>\n",
       "      <td>1203</td>\n",
       "    </tr>\n",
       "    <tr>\n",
       "      <th>8285</th>\n",
       "      <td>32237</td>\n",
       "      <td>Burutabu-chan</td>\n",
       "      <td>Comedy, Fantasy, Magic</td>\n",
       "      <td>TV</td>\n",
       "      <td>Unknown</td>\n",
       "      <td>5.00</td>\n",
       "      <td>37</td>\n",
       "    </tr>\n",
       "    <tr>\n",
       "      <th>2634</th>\n",
       "      <td>367</td>\n",
       "      <td>Akazukin Chacha OVA</td>\n",
       "      <td>Comedy, Fantasy, Magic</td>\n",
       "      <td>OVA</td>\n",
       "      <td>3</td>\n",
       "      <td>7.20</td>\n",
       "      <td>1659</td>\n",
       "    </tr>\n",
       "    <tr>\n",
       "      <th>2803</th>\n",
       "      <td>2489</td>\n",
       "      <td>Onegai My Melody</td>\n",
       "      <td>Comedy, Fantasy, Magic</td>\n",
       "      <td>TV</td>\n",
       "      <td>52</td>\n",
       "      <td>7.16</td>\n",
       "      <td>3633</td>\n",
       "    </tr>\n",
       "    <tr>\n",
       "      <th>1944</th>\n",
       "      <td>4114</td>\n",
       "      <td>Onegai My Melody: Kuru Kuru Shuffle!</td>\n",
       "      <td>Comedy, Fantasy, Magic</td>\n",
       "      <td>TV</td>\n",
       "      <td>52</td>\n",
       "      <td>7.40</td>\n",
       "      <td>1962</td>\n",
       "    </tr>\n",
       "    <tr>\n",
       "      <th>2397</th>\n",
       "      <td>10842</td>\n",
       "      <td>Fullmetal Alchemist: The Sacred Star of Milos ...</td>\n",
       "      <td>Comedy, Fantasy, Magic</td>\n",
       "      <td>ONA</td>\n",
       "      <td>4</td>\n",
       "      <td>7.27</td>\n",
       "      <td>11981</td>\n",
       "    </tr>\n",
       "    <tr>\n",
       "      <th>6272</th>\n",
       "      <td>1990</td>\n",
       "      <td>Mahou Gakuen Lunar! Aoi Ryuu no Himitsu</td>\n",
       "      <td>Comedy, Fantasy, Magic</td>\n",
       "      <td>Movie</td>\n",
       "      <td>1</td>\n",
       "      <td>6.19</td>\n",
       "      <td>833</td>\n",
       "    </tr>\n",
       "    <tr>\n",
       "      <th>5252</th>\n",
       "      <td>5466</td>\n",
       "      <td>Mahoutsukai Tai! vs. Shamanic Princess</td>\n",
       "      <td>Comedy, Fantasy, Magic</td>\n",
       "      <td>OVA</td>\n",
       "      <td>1</td>\n",
       "      <td>6.51</td>\n",
       "      <td>820</td>\n",
       "    </tr>\n",
       "    <tr>\n",
       "      <th>6403</th>\n",
       "      <td>12755</td>\n",
       "      <td>Mahoutsukai Jiji</td>\n",
       "      <td>Fantasy, Magic, Music</td>\n",
       "      <td>ONA</td>\n",
       "      <td>1</td>\n",
       "      <td>6.13</td>\n",
       "      <td>1039</td>\n",
       "    </tr>\n",
       "    <tr>\n",
       "      <th>3462</th>\n",
       "      <td>2087</td>\n",
       "      <td>VS Knight Lamune &amp;amp; 40 Fire</td>\n",
       "      <td>Comedy, Fantasy, Mecha, Shounen</td>\n",
       "      <td>TV</td>\n",
       "      <td>26</td>\n",
       "      <td>6.99</td>\n",
       "      <td>1150</td>\n",
       "    </tr>\n",
       "    <tr>\n",
       "      <th>6921</th>\n",
       "      <td>23029</td>\n",
       "      <td>Popful Mail</td>\n",
       "      <td>Comedy, Fantasy, Music</td>\n",
       "      <td>Music</td>\n",
       "      <td>1</td>\n",
       "      <td>5.85</td>\n",
       "      <td>166</td>\n",
       "    </tr>\n",
       "    <tr>\n",
       "      <th>9231</th>\n",
       "      <td>32989</td>\n",
       "      <td>King of Prism by Pretty Rhythm Short Anime</td>\n",
       "      <td>Comedy, Fantasy, Music</td>\n",
       "      <td>Special</td>\n",
       "      <td>1</td>\n",
       "      <td>5.78</td>\n",
       "      <td>290</td>\n",
       "    </tr>\n",
       "    <tr>\n",
       "      <th>7839</th>\n",
       "      <td>8751</td>\n",
       "      <td>Kaijuu no Ballad</td>\n",
       "      <td>Comedy, Fantasy, Music</td>\n",
       "      <td>Music</td>\n",
       "      <td>1</td>\n",
       "      <td>4.89</td>\n",
       "      <td>281</td>\n",
       "    </tr>\n",
       "    <tr>\n",
       "      <th>1588</th>\n",
       "      <td>17535</td>\n",
       "      <td>Fairy Tail Movie 1: Houou no Miko - Hajimari n...</td>\n",
       "      <td>Fantasy, Magic, Shounen</td>\n",
       "      <td>Special</td>\n",
       "      <td>1</td>\n",
       "      <td>7.49</td>\n",
       "      <td>34230</td>\n",
       "    </tr>\n",
       "    <tr>\n",
       "      <th>9421</th>\n",
       "      <td>30873</td>\n",
       "      <td>Madou King Granzort: Nonstop Rabi</td>\n",
       "      <td>Action, Comedy, Fantasy, Magic, Mecha, Sci-Fi,...</td>\n",
       "      <td>Special</td>\n",
       "      <td>1</td>\n",
       "      <td>6.71</td>\n",
       "      <td>69</td>\n",
       "    </tr>\n",
       "  </tbody>\n",
       "</table>\n",
       "</div>"
      ],
      "text/plain": [
       "      anime_id                                               name  \\\n",
       "4109     18851  Fate/kaleid liner PrismaâIllya: Undoukai de ...   \n",
       "2889      5520                        Onegai My Melody Sukkiriâª   \n",
       "5579     17681                             Zettai Bouei Leviathan   \n",
       "2659     32094                Reikenzan: Hoshikuzu-tachi no Utage   \n",
       "5001      5938                       OnegaiâªMy Melody Kiraraâ\n",
       "   \n",
       "6504     19397        Zettai Bouei Leviathan: Mini Takibi Gekijou   \n",
       "8285     32237                                      Burutabu-chan   \n",
       "2634       367                                Akazukin Chacha OVA   \n",
       "2803      2489                                   Onegai My Melody   \n",
       "1944      4114               Onegai My Melody: Kuru Kuru Shuffle!   \n",
       "2397     10842  Fullmetal Alchemist: The Sacred Star of Milos ...   \n",
       "6272      1990            Mahou Gakuen Lunar! Aoi Ryuu no Himitsu   \n",
       "5252      5466             Mahoutsukai Tai! vs. Shamanic Princess   \n",
       "6403     12755                                   Mahoutsukai Jiji   \n",
       "3462      2087                     VS Knight Lamune &amp; 40 Fire   \n",
       "6921     23029                                        Popful Mail   \n",
       "9231     32989         King of Prism by Pretty Rhythm Short Anime   \n",
       "7839      8751                                   Kaijuu no Ballad   \n",
       "1588     17535  Fairy Tail Movie 1: Houou no Miko - Hajimari n...   \n",
       "9421     30873                  Madou King Granzort: Nonstop Rabi   \n",
       "\n",
       "                                                  genre     type episodes  \\\n",
       "4109                             Comedy, Fantasy, Magic      OVA        1   \n",
       "2889                             Comedy, Fantasy, Magic       TV       52   \n",
       "5579                             Comedy, Fantasy, Magic       TV       13   \n",
       "2659                             Comedy, Fantasy, Magic       TV       12   \n",
       "5001                             Comedy, Fantasy, Magic       TV       52   \n",
       "6504                             Comedy, Fantasy, Magic  Special       13   \n",
       "8285                             Comedy, Fantasy, Magic       TV  Unknown   \n",
       "2634                             Comedy, Fantasy, Magic      OVA        3   \n",
       "2803                             Comedy, Fantasy, Magic       TV       52   \n",
       "1944                             Comedy, Fantasy, Magic       TV       52   \n",
       "2397                             Comedy, Fantasy, Magic      ONA        4   \n",
       "6272                             Comedy, Fantasy, Magic    Movie        1   \n",
       "5252                             Comedy, Fantasy, Magic      OVA        1   \n",
       "6403                              Fantasy, Magic, Music      ONA        1   \n",
       "3462                    Comedy, Fantasy, Mecha, Shounen       TV       26   \n",
       "6921                             Comedy, Fantasy, Music    Music        1   \n",
       "9231                             Comedy, Fantasy, Music  Special        1   \n",
       "7839                             Comedy, Fantasy, Music    Music        1   \n",
       "1588                            Fantasy, Magic, Shounen  Special        1   \n",
       "9421  Action, Comedy, Fantasy, Magic, Mecha, Sci-Fi,...  Special        1   \n",
       "\n",
       "      rating  members  \n",
       "4109    6.80    22543  \n",
       "2889    7.14      966  \n",
       "5579    6.42    18202  \n",
       "2659    7.20    30153  \n",
       "5001    6.58      741  \n",
       "6504    6.09     1203  \n",
       "8285    5.00       37  \n",
       "2634    7.20     1659  \n",
       "2803    7.16     3633  \n",
       "1944    7.40     1962  \n",
       "2397    7.27    11981  \n",
       "6272    6.19      833  \n",
       "5252    6.51      820  \n",
       "6403    6.13     1039  \n",
       "3462    6.99     1150  \n",
       "6921    5.85      166  \n",
       "9231    5.78      290  \n",
       "7839    4.89      281  \n",
       "1588    7.49    34230  \n",
       "9421    6.71       69  "
      ]
     },
     "execution_count": 113,
     "metadata": {},
     "output_type": "execute_result"
    }
   ],
   "source": [
    "animeDF.iloc[top_10]"
   ]
  },
  {
   "cell_type": "code",
   "execution_count": null,
   "id": "d0a7409c",
   "metadata": {},
   "outputs": [],
   "source": []
  }
 ],
 "metadata": {
  "kernelspec": {
   "display_name": "Python 3 (ipykernel)",
   "language": "python",
   "name": "python3"
  },
  "language_info": {
   "codemirror_mode": {
    "name": "ipython",
    "version": 3
   },
   "file_extension": ".py",
   "mimetype": "text/x-python",
   "name": "python",
   "nbconvert_exporter": "python",
   "pygments_lexer": "ipython3",
   "version": "3.9.12"
  },
  "vscode": {
   "interpreter": {
    "hash": "ff4b5c2742f77f69a96d5e9ce5123ac3550243876c0a3bcae77163366795a70c"
   }
  }
 },
 "nbformat": 4,
 "nbformat_minor": 5
}

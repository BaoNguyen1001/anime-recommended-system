{
 "cells": [
  {
   "cell_type": "code",
   "execution_count": 4,
   "id": "f6542af0",
   "metadata": {},
   "outputs": [],
   "source": [
    "import findspark\n",
    "findspark.init()\n",
    "\n",
    "import pyspark # only run after findspark.init()\n",
    "from pyspark.sql import SparkSession\n",
    "from pyspark.sql import SQLContext\n",
    "from pyspark.sql.types import *\n",
    "from pyspark.ml.evaluation import RegressionEvaluator\n",
    "from pyspark.ml.recommendation import ALS\n",
    "from pyspark.sql import Row\n",
    "from pyspark.sql.functions import col,isnan, when, count"
   ]
  },
  {
   "cell_type": "code",
   "execution_count": 5,
   "id": "eb8af78b",
   "metadata": {},
   "outputs": [],
   "source": [
    "# Khởi tạo một sparkSession\n",
    "spark = SparkSession.builder \\\n",
    "    .master('spark://192.168.1.24:7077') \\\n",
    "    .appName(\"ALS recommendation spark session\") \\\n",
    "    .config(\"spark.driver.memory\", \"16g\") \\\n",
    "    .config(\"spark.executor.memory\", \"25g\") \\\n",
    "    .config('spark.cores.max', '16') \\\n",
    "    .enableHiveSupport() \\\n",
    "    .getOrCreate()"
   ]
  },
  {
   "cell_type": "code",
   "execution_count": 7,
   "id": "262457ce",
   "metadata": {},
   "outputs": [],
   "source": [
    "sc = spark.sparkContext\n",
    "sqlContext = SQLContext(sc)\n",
    "import os"
   ]
  },
  {
   "cell_type": "code",
   "execution_count": 8,
   "id": "727be259",
   "metadata": {},
   "outputs": [],
   "source": [
    "datasets_path = 'D:/MON_HOC/TLCN/data'\n",
    "rating_file_path = os.path.join(datasets_path, 'rating.csv')\n",
    "rating_raw_RDD = sc.textFile(rating_file_path)\n",
    "anime_file_path = os.path.join(datasets_path, 'anime.csv')\n",
    "anime_raw_RDD = sc.textFile(anime_file_path)"
   ]
  },
  {
   "cell_type": "code",
   "execution_count": null,
   "id": "4edaafe5",
   "metadata": {},
   "outputs": [],
   "source": [
    "rating_data_raw_header = rating_raw_RDD.take(1)[0]\n",
    "anime_data_raw_header = anime_raw_RDD.take(1)[0]"
   ]
  },
  {
   "cell_type": "code",
   "execution_count": null,
   "id": "78b21ce2",
   "metadata": {},
   "outputs": [],
   "source": [
    "rating_RDD = rating_raw_RDD.filter(lambda line: line!=rating_data_raw_header)\\\n",
    "    .map(lambda line: line.split(\",\")).map(lambda tokens: (int(tokens[0]), int(tokens[1]), int(tokens[2])))\n",
    "anime_RDD = anime_raw_RDD.filter(lambda line: line!=anime_data_raw_header)\\\n",
    "    .map(lambda line: line.split(\",\")).map(lambda x: (int(x[0]), x[1], x[2], x[3], int(x[4]), float(x[5]), int(x[6])))\n",
    "anime_title_RDD = anime_RDD.map(lambda x: (int(x[0]), x[1]))"
   ]
  },
  {
   "cell_type": "code",
   "execution_count": null,
   "id": "b2c91a8c",
   "metadata": {},
   "outputs": [],
   "source": [
    "rating_RDD.take(5)"
   ]
  },
  {
   "cell_type": "code",
   "execution_count": null,
   "id": "d07f92c7",
   "metadata": {},
   "outputs": [],
   "source": [
    "anime_title_RDD.take(5)"
   ]
  },
  {
   "cell_type": "code",
   "execution_count": null,
   "id": "c2fa2da9",
   "metadata": {},
   "outputs": [],
   "source": [
    "def change_rating(rating):\n",
    "    if(rating == 6):\n",
    "        return 1\n",
    "    if(rating == 7):\n",
    "        return 2\n",
    "    if(rating == 8):\n",
    "        return 3\n",
    "    if(rating == 9):\n",
    "        return 4\n",
    "    if(rating == 10):\n",
    "        return 5"
   ]
  },
  {
   "cell_type": "code",
   "execution_count": null,
   "id": "ad15a540",
   "metadata": {},
   "outputs": [],
   "source": [
    "#Test rating from 1 to 10\n",
    "#rating_RDD_data = rating_RDD.filter(lambda line: line!=rating_data_raw_header)\\\n",
    "#    .filter(lambda x: x[2] != -1)"
   ]
  },
  {
   "cell_type": "code",
   "execution_count": null,
   "id": "21de59be",
   "metadata": {},
   "outputs": [],
   "source": [
    "#Test rating from 6 to 10\n",
    "rating_RDD_data = rating_RDD.filter(lambda line: line!=rating_data_raw_header)\\\n",
    "    .filter(lambda x: x[2] != -1 and x[2] != 1 and x[2] != 2 and x[2] != 3 and x[2] != 4 and x[2] != 5)\\\n",
    "    .map(lambda x: (int(x[0]), int(x[1]), int(change_rating(x[2]))))"
   ]
  },
  {
   "cell_type": "code",
   "execution_count": null,
   "id": "5cd0fe1a",
   "metadata": {},
   "outputs": [],
   "source": [
    "rating_RDD_data.take(10)"
   ]
  },
  {
   "cell_type": "code",
   "execution_count": null,
   "id": "80d3abf5",
   "metadata": {},
   "outputs": [],
   "source": [
    "rating_RDD_data.count()"
   ]
  },
  {
   "cell_type": "code",
   "execution_count": null,
   "id": "67089912",
   "metadata": {},
   "outputs": [],
   "source": [
    "#create header for rdd\n",
    "rating_RDD_complete_data = rating_RDD_data.map(lambda p: Row(user_id=int(p[0]), anime_id=int(p[1]),\n",
    "                                    rating=int(p[2])))\n",
    "anime_RDD_complete_data = anime_title_RDD.map(lambda p: Row(anime_id=int(p[0]), name=p[1]))"
   ]
  },
  {
   "cell_type": "code",
   "execution_count": null,
   "id": "d0d5e5a1",
   "metadata": {},
   "outputs": [],
   "source": [
    "#create dataframe from rdd\n",
    "ratings_df = spark.createDataFrame(rating_RDD_complete_data)\n",
    "anime_df = spark.createDataFrame(anime_RDD_complete_data)"
   ]
  },
  {
   "cell_type": "code",
   "execution_count": null,
   "id": "e7bab5d0",
   "metadata": {},
   "outputs": [],
   "source": [
    "ratings_df.show(5)"
   ]
  },
  {
   "cell_type": "code",
   "execution_count": null,
   "id": "77b0baa7",
   "metadata": {},
   "outputs": [],
   "source": [
    "anime_df.show(5)"
   ]
  },
  {
   "cell_type": "code",
   "execution_count": null,
   "id": "d258f379",
   "metadata": {},
   "outputs": [],
   "source": [
    "(training, testing) = ratings_df.randomSplit([0.8, 0.2])"
   ]
  },
  {
   "cell_type": "markdown",
   "id": "742c73bd",
   "metadata": {},
   "source": [
    "# Training model"
   ]
  },
  {
   "cell_type": "code",
   "execution_count": 92,
   "id": "af260e6b",
   "metadata": {},
   "outputs": [
    {
     "name": "stdout",
     "output_type": "stream",
     "text": [
      "Execute time 0:01:01.982784\n"
     ]
    }
   ],
   "source": [
    "# Xây dựng mô hình recommendation sử dụng thuật toán ALS trên tập dữ liệu huấn luyện\n",
    "from datetime import datetime\n",
    "start_time = datetime.now()\n",
    "als = ALS(maxIter=10, regParam=0.1, userCol=\"user_id\", itemCol=\"anime_id\", ratingCol=\"rating\")\n",
    "model = als.fit(training)\n",
    "end_time = datetime.now()\n",
    "\n",
    "print('Execute time {}'.format(end_time - start_time))"
   ]
  },
  {
   "cell_type": "code",
   "execution_count": 93,
   "id": "f72a7fe3",
   "metadata": {},
   "outputs": [
    {
     "name": "stdout",
     "output_type": "stream",
     "text": [
      "Root-mean-square error = 0.9366923035028061\n"
     ]
    }
   ],
   "source": [
    "model.setColdStartStrategy(\"drop\");\n",
    "predictions = model.transform(testing)\n",
    "evaluator = RegressionEvaluator(metricName=\"rmse\", labelCol=\"rating\",\n",
    "                               predictionCol=\"prediction\")\n",
    "rmse = evaluator.evaluate(predictions)\n",
    "print(\"Root-mean-square error = \" + str(rmse))"
   ]
  },
  {
   "cell_type": "code",
   "execution_count": 94,
   "id": "547ecc87",
   "metadata": {},
   "outputs": [],
   "source": [
    "#def get_anime_id_name_rating(recommendedDF):\n",
    "#    animeDF = spark.createDataFrame(data = anime_title_RDD, schema = [\"anime_id\", \"name\"])\n",
    "#    return recommendedDF.join(animeDF, recommendedDF.anime_id == animeDF.anime_id, \"leftouter\")"
   ]
  },
  {
   "cell_type": "code",
   "execution_count": 95,
   "id": "09a0ae70",
   "metadata": {},
   "outputs": [
    {
     "name": "stdout",
     "output_type": "stream",
     "text": [
      "+-------+\n",
      "|user_id|\n",
      "+-------+\n",
      "|    215|\n",
      "+-------+\n",
      "\n"
     ]
    }
   ],
   "source": [
    "#Recommended: top 10 movies for user\n",
    "#Config userId need to recommended\n",
    "usersId = [215] #input\n",
    "users_RDD = rating_RDD_complete_data.filter(lambda x: x[0] in usersId)\n",
    "users_df = spark.createDataFrame(users_RDD)\n",
    "users_df = users_df.select(als.getUserCol()).distinct()\n",
    "users_df.show(5)"
   ]
  },
  {
   "cell_type": "code",
   "execution_count": 97,
   "id": "2b1dccc0",
   "metadata": {},
   "outputs": [],
   "source": [
    "#Get top 10\n",
    "userSubsetRecs = model.recommendForUserSubset(users_df, 10)"
   ]
  },
  {
   "cell_type": "code",
   "execution_count": 98,
   "id": "663cdd8e",
   "metadata": {},
   "outputs": [],
   "source": [
    "list_user_predictions = list(userSubsetRecs.select('recommendations').toPandas()['recommendations'])"
   ]
  },
  {
   "cell_type": "code",
   "execution_count": 127,
   "id": "b684ab5d",
   "metadata": {},
   "outputs": [],
   "source": [
    "rdd = sc.parallelize(list_user_predictions[0])"
   ]
  },
  {
   "cell_type": "code",
   "execution_count": 135,
   "id": "fb0d29e0",
   "metadata": {},
   "outputs": [],
   "source": [
    "user_predictions_df = spark.createDataFrame(rdd, schema=['anime_id', 'rating'])"
   ]
  },
  {
   "cell_type": "code",
   "execution_count": 140,
   "id": "70e1e67c",
   "metadata": {},
   "outputs": [
    {
     "name": "stdout",
     "output_type": "stream",
     "text": [
      "+--------+-----------------+\n",
      "|anime_id|           rating|\n",
      "+--------+-----------------+\n",
      "|   32400|6.928781032562256|\n",
      "|    7485|6.805344581604004|\n",
      "|   30743|6.732007026672363|\n",
      "|    8353|6.387811183929443|\n",
      "|   29978|6.241982936859131|\n",
      "+--------+-----------------+\n",
      "only showing top 5 rows\n",
      "\n"
     ]
    }
   ],
   "source": [
    "user_predictions_df.show(5)"
   ]
  },
  {
   "cell_type": "code",
   "execution_count": null,
   "id": "2d4e844b",
   "metadata": {},
   "outputs": [],
   "source": [
    "user_predictions_join_df = user_predictions_df.join(anime_df, user_predictions_df.anime_id == anime_df.anime_id, 'left')"
   ]
  },
  {
   "cell_type": "code",
   "execution_count": null,
   "id": "ba8f4756",
   "metadata": {},
   "outputs": [],
   "source": [
    "user_predictions_join_df.rdd.take(10)"
   ]
  },
  {
   "cell_type": "code",
   "execution_count": null,
   "id": "be14cc3f",
   "metadata": {},
   "outputs": [],
   "source": []
  }
 ],
 "metadata": {
  "kernelspec": {
   "display_name": "Python 3 (ipykernel)",
   "language": "python",
   "name": "python3"
  },
  "language_info": {
   "codemirror_mode": {
    "name": "ipython",
    "version": 3
   },
   "file_extension": ".py",
   "mimetype": "text/x-python",
   "name": "python",
   "nbconvert_exporter": "python",
   "pygments_lexer": "ipython3",
   "version": "3.9.12"
  }
 },
 "nbformat": 4,
 "nbformat_minor": 5
}

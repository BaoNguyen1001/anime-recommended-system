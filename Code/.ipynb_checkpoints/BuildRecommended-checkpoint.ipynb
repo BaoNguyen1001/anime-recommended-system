{
 "cells": [
  {
   "cell_type": "markdown",
   "id": "18eed6b8",
   "metadata": {},
   "source": [
    "# Anime Recommended System"
   ]
  },
  {
   "cell_type": "markdown",
   "id": "b8b15286",
   "metadata": {},
   "source": [
    "## Team member\n",
    "  - Nguyễn Quốc Bảo - 19133002\n",
    "  - Võ Hoàng Khả Diệu - 19133014\n",
    "  \n",
    "  This notebook explains how to use the [Anime Datasets]() to build a movie recommender using [collaborative filtering](https://en.wikipedia.org/wiki/Recommender_system#Collaborative_filtering) with [Spark's Alternating Least Saqures](https://spark.apache.org/docs/latest/api/python/reference/api/pyspark.ml.recommendation.ALS.html) implementation. It is organised in two parts. The first one is about getting and parsing movies and ratings data into Spark RDDs. The second is about building and using the recommender and persisting it for later use in our on-line recommender system. "
   ]
  },
  {
   "cell_type": "markdown",
   "id": "0f6c4c6d",
   "metadata": {},
   "source": [
    "## Getting and processing the data"
   ]
  },
  {
   "cell_type": "code",
   "execution_count": 1,
   "id": "f6542af0",
   "metadata": {},
   "outputs": [],
   "source": [
    "import findspark\n",
    "findspark.init()\n",
    "findspark.find()\n",
    "import pyspark # only run after findspark.init()\n",
    "from pyspark.sql import SparkSession\n",
    "from pyspark.sql import SQLContext\n",
    "from pyspark.sql.types import *\n",
    "from pyspark.ml.evaluation import RegressionEvaluator\n",
    "from pyspark.ml.tuning import CrossValidator, ParamGridBuilder, TrainValidationSplit\n",
    "from pyspark.ml.recommendation import ALS\n",
    "from pyspark.sql import Row\n",
    "from pyspark.sql.functions import col,isnan, when, count\n",
    "import pandas as pd\n"
   ]
  },
  {
   "cell_type": "code",
   "execution_count": 3,
   "id": "eb8af78b",
   "metadata": {},
   "outputs": [],
   "source": [
    "# Khởi tạo một sparkSession\n",
    "#spark = SparkSession.builder \\\n",
    "#    .appName(\"ALS recommendation spark session\") \\\n",
    "#    .config(\"spark.driver.memory\", \"16g\") \\\n",
    "#    .config(\"spark.executor.memory\", \"25g\") \\\n",
    "#    .config('spark.cores.max', '16') \\\n",
    "#    .enableHiveSupport() \\\n",
    "#    .getOrCreate()\n",
    "\n",
    "#    .master('spark://192.168.1.171:7077') \\\n",
    "#    .config(\"spark.driver.host\", \"192.168.1.171\") \\\n",
    "#    .config(\"spark.driver.port\", \"10027\") \\\n",
    "#    .config(\"spark.submit.deployMode\", \"cluster\") \\\n",
    "#    .config(\"spark.driver.bindAddress\", \"0.0.0.0\") \\\n",
    "#    .config(\"spark.dynamicAllocation.enabled\", False) \\"
   ]
  },
  {
   "cell_type": "code",
   "execution_count": 2,
   "id": "d070782b",
   "metadata": {
    "scrolled": true
   },
   "outputs": [],
   "source": [
    "spark = SparkSession.builder \\\n",
    "    .appName(\"Anime recommendation\") \\\n",
    "    .getOrCreate()"
   ]
  },
  {
   "cell_type": "code",
   "execution_count": 3,
   "id": "262457ce",
   "metadata": {},
   "outputs": [],
   "source": [
    "sc = spark.sparkContext\n",
    "sqlContext = SQLContext(sc)\n",
    "import os"
   ]
  },
  {
   "cell_type": "code",
   "execution_count": 185,
   "id": "727be259",
   "metadata": {},
   "outputs": [],
   "source": [
    "datasets_path = os.path.join('../data')\n",
    "rating_file_path = os.path.join(datasets_path, 'rating.csv')\n",
    "rating_change_file_path = os.path.join(datasets_path, 'rating_change.csv');\n",
    "rating_raw_RDD = sc.textFile(rating_file_path)\n",
    "anime_file_path = os.path.join(datasets_path, 'anime.csv')\n",
    "anime_raw_RDD = sc.textFile(anime_file_path)"
   ]
  },
  {
   "cell_type": "code",
   "execution_count": 6,
   "id": "4edaafe5",
   "metadata": {},
   "outputs": [],
   "source": [
    "rating_data_raw_header = rating_raw_RDD.take(1)[0]\n",
    "anime_data_raw_header = anime_raw_RDD.take(1)[0]"
   ]
  },
  {
   "cell_type": "code",
   "execution_count": 7,
   "id": "78b21ce2",
   "metadata": {},
   "outputs": [],
   "source": [
    "rating_RDD = rating_raw_RDD.filter(lambda line: line!=rating_data_raw_header)\\\n",
    "    .map(lambda line: line.split(\",\")).map(lambda tokens: (int(tokens[0]), int(tokens[1]), int(tokens[2]))).cache()#\n",
    "anime_title_RDD = anime_raw_RDD.filter(lambda line: line!=anime_data_raw_header)\\\n",
    "    .map(lambda line: line.split(\",\")).map(lambda x: (int(x[0]), x[1])).cache()"
   ]
  },
  {
   "cell_type": "code",
   "execution_count": 11,
   "id": "b2c91a8c",
   "metadata": {},
   "outputs": [
    {
     "data": {
      "text/plain": [
       "[(1, 20, -1), (1, 24, -1), (1, 79, -1), (1, 226, -1), (1, 241, -1)]"
      ]
     },
     "execution_count": 11,
     "metadata": {},
     "output_type": "execute_result"
    }
   ],
   "source": [
    "rating_RDD.take(5)"
   ]
  },
  {
   "cell_type": "code",
   "execution_count": 12,
   "id": "d07f92c7",
   "metadata": {},
   "outputs": [
    {
     "data": {
      "text/plain": [
       "[(32281, 'Kimi no Na wa.'),\n",
       " (5114, 'Fullmetal Alchemist: Brotherhood'),\n",
       " (28977, 'Gintama°'),\n",
       " (9253, 'Steins;Gate'),\n",
       " (9969, 'Gintama&#039;')]"
      ]
     },
     "execution_count": 12,
     "metadata": {},
     "output_type": "execute_result"
    }
   ],
   "source": [
    "anime_title_RDD.take(5)"
   ]
  },
  {
   "cell_type": "code",
   "execution_count": 13,
   "id": "c2fa2da9",
   "metadata": {},
   "outputs": [],
   "source": [
    "def change_rating(rating):\n",
    "    if(rating == 6):\n",
    "        return 1\n",
    "    if(rating == 7):\n",
    "        return 2\n",
    "    if(rating == 8):\n",
    "        return 3\n",
    "    if(rating == 9):\n",
    "        return 4\n",
    "    if(rating == 10):\n",
    "        return 5"
   ]
  },
  {
   "cell_type": "code",
   "execution_count": 14,
   "id": "ad15a540",
   "metadata": {},
   "outputs": [],
   "source": [
    "#Test rating from 1 to 10\n",
    "#rating_RDD_data = rating_RDD.filter(lambda line: line!=rating_data_raw_header)\\\n",
    "#    .filter(lambda x: x[2] != -1)"
   ]
  },
  {
   "cell_type": "code",
   "execution_count": 15,
   "id": "21de59be",
   "metadata": {},
   "outputs": [],
   "source": [
    "#Test rating from 6 to 10\n",
    "rating_RDD_data = rating_RDD.filter(lambda line: line!=rating_data_raw_header)\\\n",
    "    .filter(lambda x: x[2] != -1 and x[2] != 1 and x[2] != 2 and x[2] != 3 and x[2] != 4 and x[2] != 5)\\\n",
    "    .map(lambda x: (int(x[0]), int(x[1]), int(change_rating(x[2]))))"
   ]
  },
  {
   "cell_type": "code",
   "execution_count": 16,
   "id": "5cd0fe1a",
   "metadata": {},
   "outputs": [
    {
     "data": {
      "text/plain": [
       "[(1, 8074, 5),\n",
       " (1, 11617, 5),\n",
       " (1, 11757, 5),\n",
       " (1, 15451, 5),\n",
       " (2, 11771, 5),\n",
       " (3, 20, 3),\n",
       " (3, 154, 1),\n",
       " (3, 170, 4),\n",
       " (3, 199, 5),\n",
       " (3, 225, 4)]"
      ]
     },
     "execution_count": 16,
     "metadata": {},
     "output_type": "execute_result"
    }
   ],
   "source": [
    "rating_RDD_data.take(10)"
   ]
  },
  {
   "cell_type": "code",
   "execution_count": 17,
   "id": "80d3abf5",
   "metadata": {},
   "outputs": [
    {
     "data": {
      "text/plain": [
       "5868892"
      ]
     },
     "execution_count": 17,
     "metadata": {},
     "output_type": "execute_result"
    }
   ],
   "source": [
    "rating_RDD_data.count()"
   ]
  },
  {
   "cell_type": "code",
   "execution_count": 18,
   "id": "d0d5e5a1",
   "metadata": {},
   "outputs": [],
   "source": [
    "#create dataframe from rdd\n",
    "ratings_df = spark.createDataFrame(data = rating_RDD_data, schema = [\"user_id\", \"anime_id\", \"rating\"])"
   ]
  },
  {
   "cell_type": "code",
   "execution_count": 19,
   "id": "e7bab5d0",
   "metadata": {},
   "outputs": [
    {
     "name": "stdout",
     "output_type": "stream",
     "text": [
      "+-------+--------+------+\n",
      "|user_id|anime_id|rating|\n",
      "+-------+--------+------+\n",
      "|      1|    8074|     5|\n",
      "|      1|   11617|     5|\n",
      "|      1|   11757|     5|\n",
      "|      1|   15451|     5|\n",
      "|      2|   11771|     5|\n",
      "+-------+--------+------+\n",
      "only showing top 5 rows\n",
      "\n"
     ]
    }
   ],
   "source": [
    "ratings_df.show(5)"
   ]
  },
  {
   "cell_type": "markdown",
   "id": "742c73bd",
   "metadata": {},
   "source": [
    "## Building and using the Recommended system"
   ]
  },
  {
   "cell_type": "markdown",
   "id": "15e78697",
   "metadata": {},
   "source": [
    "### Collaborative Filtering - ALS"
   ]
  },
  {
   "cell_type": "markdown",
   "id": "1463da85",
   "metadata": {},
   "source": [
    "#### Building and training the model"
   ]
  },
  {
   "cell_type": "code",
   "execution_count": 20,
   "id": "8f2c4ee1",
   "metadata": {},
   "outputs": [],
   "source": [
    "# Chia tập train & tập test theo tỉ lệ 8 : 2\n",
    "(training, testing) = ratings_df.randomSplit([0.8, 0.2])\n"
   ]
  },
  {
   "cell_type": "code",
   "execution_count": 21,
   "id": "af260e6b",
   "metadata": {},
   "outputs": [
    {
     "name": "stdout",
     "output_type": "stream",
     "text": [
      "Execute time 0:00:52.676939\n"
     ]
    }
   ],
   "source": [
    "# Xây dựng mô hình recommendation sử dụng thuật toán ALS trên tập dữ liệu huấn luyện\n",
    "from datetime import datetime\n",
    "start_time = datetime.now()\n",
    "als = ALS(maxIter=10, regParam=0.1, userCol=\"user_id\", itemCol=\"anime_id\", ratingCol=\"rating\")\n",
    "model = als.fit(training)\n",
    "end_time = datetime.now()\n",
    "\n",
    "print('Execute time {}'.format(end_time - start_time))"
   ]
  },
  {
   "cell_type": "markdown",
   "id": "eb5605d9",
   "metadata": {},
   "source": [
    "#### Turning hyperparameter"
   ]
  },
  {
   "cell_type": "code",
   "execution_count": 22,
   "id": "146223f8",
   "metadata": {
    "scrolled": true
   },
   "outputs": [],
   "source": [
    "ALSExplicit = ALS(implicitPrefs=False, userCol=\"user_id\", itemCol=\"anime_id\", ratingCol=\"rating\",\n",
    "          coldStartStrategy=\"drop\")\n",
    "defaultModel = ALSExplicit.fit(training)"
   ]
  },
  {
   "cell_type": "code",
   "execution_count": 23,
   "id": "6fec5165",
   "metadata": {},
   "outputs": [],
   "source": [
    "paramMapExplicit = ParamGridBuilder() \\\n",
    "                    .addGrid(ALSExplicit.rank, [ 8, 12]) \\\n",
    "                    .addGrid(ALSExplicit.maxIter, [5,10]) \\\n",
    "                    .addGrid(ALSExplicit.regParam, [0.01,0.001]) \\\n",
    "                    .addGrid(ALSExplicit.alpha, [2.0,3.0]) \\\n",
    "                    .build()"
   ]
  },
  {
   "cell_type": "code",
   "execution_count": 24,
   "id": "99c62dbf",
   "metadata": {},
   "outputs": [],
   "source": [
    "evaluatorR = RegressionEvaluator(metricName=\"rmse\", labelCol=\"rating\")"
   ]
  },
  {
   "cell_type": "code",
   "execution_count": 25,
   "id": "ebc55b4a",
   "metadata": {},
   "outputs": [],
   "source": [
    "# Run cross-validation, and choose the best set of parameters.\n",
    "CVALSExplicit = CrossValidator(estimator=ALSExplicit,\n",
    "                            estimatorParamMaps=paramMapExplicit,\n",
    "                            evaluator=evaluatorR,\n",
    "                           numFolds=5)"
   ]
  },
  {
   "cell_type": "code",
   "execution_count": null,
   "id": "c4a6a1ce",
   "metadata": {},
   "outputs": [],
   "source": [
    "CVModelEXplicit = CVALSExplicit.fit(training)"
   ]
  },
  {
   "cell_type": "code",
   "execution_count": 29,
   "id": "f72a7fe3",
   "metadata": {},
   "outputs": [
    {
     "name": "stdout",
     "output_type": "stream",
     "text": [
      "Root-mean-square error = 0.9363156782800602\n"
     ]
    }
   ],
   "source": [
    "# Test\n",
    "model.setColdStartStrategy(\"drop\");\n",
    "predictions = model.transform(testing)\n",
    "evaluator = RegressionEvaluator(metricName=\"rmse\", labelCol=\"rating\",\n",
    "                               predictionCol=\"prediction\")\n",
    "rmse = evaluator.evaluate(predictions)\n",
    "print(\"Root-mean-square error = \" + str(rmse))"
   ]
  },
  {
   "cell_type": "markdown",
   "id": "5b84c50f",
   "metadata": {},
   "source": [
    "#### Using the model for recommended system"
   ]
  },
  {
   "cell_type": "code",
   "execution_count": 58,
   "id": "09a0ae70",
   "metadata": {
    "scrolled": true
   },
   "outputs": [],
   "source": [
    "#Recommended: top 10 movies for a user\n",
    "user_subset = ratings_df.where(ratings_df.user_id == 215)\n",
    "user_subset_recs = model.recommendForUserSubset(user_subset, 10)\n",
    "list_user_predictions = list(user_subset_recs.select('recommendations').toPandas()['recommendations'])\n",
    "user_prediction_rdd = sc.parallelize(list_user_predictions[0])"
   ]
  },
  {
   "cell_type": "code",
   "execution_count": 61,
   "id": "b684ab5d",
   "metadata": {},
   "outputs": [],
   "source": [
    "#Join name of Anime into a new list\n",
    "list_complete_user_prediction = user_prediction_rdd.join(anime_title_RDD) \\\n",
    "    .map(lambda x: (x[0], x[1][1], x[1][0])) \\\n",
    "    .takeOrdered(10, key=lambda x: -x[2])"
   ]
  },
  {
   "cell_type": "code",
   "execution_count": 71,
   "id": "e3e4a9b2",
   "metadata": {},
   "outputs": [],
   "source": [
    "# Change list to dataframe\n",
    "user_subset_recs_columns = [\"anime_id\",\"name\", \"rating\"]\n",
    "user_subset_recs_DF = spark.createDataFrame(data=list_complete_user_prediction, schema = user_subset_recs_columns)"
   ]
  },
  {
   "cell_type": "code",
   "execution_count": 125,
   "id": "c95d9929",
   "metadata": {},
   "outputs": [
    {
     "name": "stdout",
     "output_type": "stream",
     "text": [
      "Top 10 anime recommended for userID is 215\n",
      "+--------+--------------------+-----------------+\n",
      "|anime_id|                name|           rating|\n",
      "+--------+--------------------+-----------------+\n",
      "|    7416|              Socket|6.557953357696533|\n",
      "|   32400|           KochinPa!|6.261995792388916|\n",
      "|   29978|                 001|6.244216442108154|\n",
      "|   29995|The Embryo Develo...|6.110090732574463|\n",
      "|    7485|      Urashima Tarou|6.042207717895508|\n",
      "|   22059|Kakumeiteki Broad...|5.638498306274414|\n",
      "|   22615|Kero Kero Keroppi...|5.526596546173096|\n",
      "|   22445|Hello Kitty no Ya...|5.526596546173096|\n",
      "|   17985|Kero Kero Keroppi...|5.526596546173096|\n",
      "|   22607|Ahiru no Pekkle n...|5.526596546173096|\n",
      "+--------+--------------------+-----------------+\n",
      "\n",
      "None\n"
     ]
    }
   ],
   "source": [
    "# Show output\n",
    "print(\"Top 10 anime recommended for userID is \" + str(user_subset.collect()[0][0]))\n",
    "print(user_subset_recs_DF.show(10))"
   ]
  },
  {
   "cell_type": "markdown",
   "id": "218e98ec",
   "metadata": {},
   "source": [
    "#### Persisting the model"
   ]
  },
  {
   "cell_type": "code",
   "execution_count": 122,
   "id": "fadd0989",
   "metadata": {},
   "outputs": [],
   "source": [
    "model_path = os.path.join('model') + \"/als_model\"\n",
    "model.save(model_path)"
   ]
  },
  {
   "cell_type": "markdown",
   "id": "27081ba2",
   "metadata": {},
   "source": [
    "### Content-base Filtering"
   ]
  },
  {
   "cell_type": "code",
   "execution_count": 165,
   "id": "d9f18eb5",
   "metadata": {},
   "outputs": [],
   "source": [
    "from sklearn.metrics.pairwise import linear_kernel\n",
    "from sklearn.feature_extraction.text import TfidfVectorizer\n",
    "from itertools import combinations\n",
    "from sklearn.linear_model import Ridge"
   ]
  },
  {
   "cell_type": "code",
   "execution_count": 186,
   "id": "f12a2820",
   "metadata": {
    "scrolled": true
   },
   "outputs": [
    {
     "ename": "MemoryError",
     "evalue": "Unable to allocate 2.00 MiB for an array with shape (262144,) and data type int64",
     "output_type": "error",
     "traceback": [
      "\u001b[1;31m---------------------------------------------------------------------------\u001b[0m",
      "\u001b[1;31mMemoryError\u001b[0m                               Traceback (most recent call last)",
      "Input \u001b[1;32mIn [186]\u001b[0m, in \u001b[0;36m<cell line: 4>\u001b[1;34m()\u001b[0m\n\u001b[0;32m      2\u001b[0m animeDF \u001b[38;5;241m=\u001b[39m pd\u001b[38;5;241m.\u001b[39mread_csv(anime_file_path, sep\u001b[38;5;241m=\u001b[39m\u001b[38;5;124m'\u001b[39m\u001b[38;5;124m,\u001b[39m\u001b[38;5;124m'\u001b[39m, encoding\u001b[38;5;241m=\u001b[39m\u001b[38;5;124m'\u001b[39m\u001b[38;5;124mlatin-1\u001b[39m\u001b[38;5;124m'\u001b[39m)\n\u001b[0;32m      3\u001b[0m \u001b[38;5;66;03m#Reading rating file:\u001b[39;00m\n\u001b[1;32m----> 4\u001b[0m ratingDF \u001b[38;5;241m=\u001b[39m \u001b[43mpd\u001b[49m\u001b[38;5;241;43m.\u001b[39;49m\u001b[43mread_csv\u001b[49m\u001b[43m(\u001b[49m\u001b[43mrating_file_path\u001b[49m\u001b[43m,\u001b[49m\u001b[43m \u001b[49m\u001b[43msep\u001b[49m\u001b[38;5;241;43m=\u001b[39;49m\u001b[38;5;124;43m'\u001b[39;49m\u001b[38;5;124;43m,\u001b[39;49m\u001b[38;5;124;43m'\u001b[39;49m\u001b[43m,\u001b[49m\u001b[43m \u001b[49m\u001b[43mencoding\u001b[49m\u001b[38;5;241;43m=\u001b[39;49m\u001b[38;5;124;43m'\u001b[39;49m\u001b[38;5;124;43mlatin-1\u001b[39;49m\u001b[38;5;124;43m'\u001b[39;49m\u001b[43m)\u001b[49m\n",
      "File \u001b[1;32m~\\anaconda3\\lib\\site-packages\\pandas\\util\\_decorators.py:311\u001b[0m, in \u001b[0;36mdeprecate_nonkeyword_arguments.<locals>.decorate.<locals>.wrapper\u001b[1;34m(*args, **kwargs)\u001b[0m\n\u001b[0;32m    305\u001b[0m \u001b[38;5;28;01mif\u001b[39;00m \u001b[38;5;28mlen\u001b[39m(args) \u001b[38;5;241m>\u001b[39m num_allow_args:\n\u001b[0;32m    306\u001b[0m     warnings\u001b[38;5;241m.\u001b[39mwarn(\n\u001b[0;32m    307\u001b[0m         msg\u001b[38;5;241m.\u001b[39mformat(arguments\u001b[38;5;241m=\u001b[39marguments),\n\u001b[0;32m    308\u001b[0m         \u001b[38;5;167;01mFutureWarning\u001b[39;00m,\n\u001b[0;32m    309\u001b[0m         stacklevel\u001b[38;5;241m=\u001b[39mstacklevel,\n\u001b[0;32m    310\u001b[0m     )\n\u001b[1;32m--> 311\u001b[0m \u001b[38;5;28;01mreturn\u001b[39;00m func(\u001b[38;5;241m*\u001b[39margs, \u001b[38;5;241m*\u001b[39m\u001b[38;5;241m*\u001b[39mkwargs)\n",
      "File \u001b[1;32m~\\anaconda3\\lib\\site-packages\\pandas\\io\\parsers\\readers.py:680\u001b[0m, in \u001b[0;36mread_csv\u001b[1;34m(filepath_or_buffer, sep, delimiter, header, names, index_col, usecols, squeeze, prefix, mangle_dupe_cols, dtype, engine, converters, true_values, false_values, skipinitialspace, skiprows, skipfooter, nrows, na_values, keep_default_na, na_filter, verbose, skip_blank_lines, parse_dates, infer_datetime_format, keep_date_col, date_parser, dayfirst, cache_dates, iterator, chunksize, compression, thousands, decimal, lineterminator, quotechar, quoting, doublequote, escapechar, comment, encoding, encoding_errors, dialect, error_bad_lines, warn_bad_lines, on_bad_lines, delim_whitespace, low_memory, memory_map, float_precision, storage_options)\u001b[0m\n\u001b[0;32m    665\u001b[0m kwds_defaults \u001b[38;5;241m=\u001b[39m _refine_defaults_read(\n\u001b[0;32m    666\u001b[0m     dialect,\n\u001b[0;32m    667\u001b[0m     delimiter,\n\u001b[1;32m   (...)\u001b[0m\n\u001b[0;32m    676\u001b[0m     defaults\u001b[38;5;241m=\u001b[39m{\u001b[38;5;124m\"\u001b[39m\u001b[38;5;124mdelimiter\u001b[39m\u001b[38;5;124m\"\u001b[39m: \u001b[38;5;124m\"\u001b[39m\u001b[38;5;124m,\u001b[39m\u001b[38;5;124m\"\u001b[39m},\n\u001b[0;32m    677\u001b[0m )\n\u001b[0;32m    678\u001b[0m kwds\u001b[38;5;241m.\u001b[39mupdate(kwds_defaults)\n\u001b[1;32m--> 680\u001b[0m \u001b[38;5;28;01mreturn\u001b[39;00m \u001b[43m_read\u001b[49m\u001b[43m(\u001b[49m\u001b[43mfilepath_or_buffer\u001b[49m\u001b[43m,\u001b[49m\u001b[43m \u001b[49m\u001b[43mkwds\u001b[49m\u001b[43m)\u001b[49m\n",
      "File \u001b[1;32m~\\anaconda3\\lib\\site-packages\\pandas\\io\\parsers\\readers.py:581\u001b[0m, in \u001b[0;36m_read\u001b[1;34m(filepath_or_buffer, kwds)\u001b[0m\n\u001b[0;32m    578\u001b[0m     \u001b[38;5;28;01mreturn\u001b[39;00m parser\n\u001b[0;32m    580\u001b[0m \u001b[38;5;28;01mwith\u001b[39;00m parser:\n\u001b[1;32m--> 581\u001b[0m     \u001b[38;5;28;01mreturn\u001b[39;00m \u001b[43mparser\u001b[49m\u001b[38;5;241;43m.\u001b[39;49m\u001b[43mread\u001b[49m\u001b[43m(\u001b[49m\u001b[43mnrows\u001b[49m\u001b[43m)\u001b[49m\n",
      "File \u001b[1;32m~\\anaconda3\\lib\\site-packages\\pandas\\io\\parsers\\readers.py:1254\u001b[0m, in \u001b[0;36mTextFileReader.read\u001b[1;34m(self, nrows)\u001b[0m\n\u001b[0;32m   1252\u001b[0m nrows \u001b[38;5;241m=\u001b[39m validate_integer(\u001b[38;5;124m\"\u001b[39m\u001b[38;5;124mnrows\u001b[39m\u001b[38;5;124m\"\u001b[39m, nrows)\n\u001b[0;32m   1253\u001b[0m \u001b[38;5;28;01mtry\u001b[39;00m:\n\u001b[1;32m-> 1254\u001b[0m     index, columns, col_dict \u001b[38;5;241m=\u001b[39m \u001b[38;5;28;43mself\u001b[39;49m\u001b[38;5;241;43m.\u001b[39;49m\u001b[43m_engine\u001b[49m\u001b[38;5;241;43m.\u001b[39;49m\u001b[43mread\u001b[49m\u001b[43m(\u001b[49m\u001b[43mnrows\u001b[49m\u001b[43m)\u001b[49m\n\u001b[0;32m   1255\u001b[0m \u001b[38;5;28;01mexcept\u001b[39;00m \u001b[38;5;167;01mException\u001b[39;00m:\n\u001b[0;32m   1256\u001b[0m     \u001b[38;5;28mself\u001b[39m\u001b[38;5;241m.\u001b[39mclose()\n",
      "File \u001b[1;32m~\\anaconda3\\lib\\site-packages\\pandas\\io\\parsers\\c_parser_wrapper.py:225\u001b[0m, in \u001b[0;36mCParserWrapper.read\u001b[1;34m(self, nrows)\u001b[0m\n\u001b[0;32m    223\u001b[0m \u001b[38;5;28;01mtry\u001b[39;00m:\n\u001b[0;32m    224\u001b[0m     \u001b[38;5;28;01mif\u001b[39;00m \u001b[38;5;28mself\u001b[39m\u001b[38;5;241m.\u001b[39mlow_memory:\n\u001b[1;32m--> 225\u001b[0m         chunks \u001b[38;5;241m=\u001b[39m \u001b[38;5;28;43mself\u001b[39;49m\u001b[38;5;241;43m.\u001b[39;49m\u001b[43m_reader\u001b[49m\u001b[38;5;241;43m.\u001b[39;49m\u001b[43mread_low_memory\u001b[49m\u001b[43m(\u001b[49m\u001b[43mnrows\u001b[49m\u001b[43m)\u001b[49m\n\u001b[0;32m    226\u001b[0m         \u001b[38;5;66;03m# destructive to chunks\u001b[39;00m\n\u001b[0;32m    227\u001b[0m         data \u001b[38;5;241m=\u001b[39m _concatenate_chunks(chunks)\n",
      "File \u001b[1;32m~\\anaconda3\\lib\\site-packages\\pandas\\_libs\\parsers.pyx:805\u001b[0m, in \u001b[0;36mpandas._libs.parsers.TextReader.read_low_memory\u001b[1;34m()\u001b[0m\n",
      "File \u001b[1;32m~\\anaconda3\\lib\\site-packages\\pandas\\_libs\\parsers.pyx:883\u001b[0m, in \u001b[0;36mpandas._libs.parsers.TextReader._read_rows\u001b[1;34m()\u001b[0m\n",
      "File \u001b[1;32m~\\anaconda3\\lib\\site-packages\\pandas\\_libs\\parsers.pyx:1026\u001b[0m, in \u001b[0;36mpandas._libs.parsers.TextReader._convert_column_data\u001b[1;34m()\u001b[0m\n",
      "File \u001b[1;32m~\\anaconda3\\lib\\site-packages\\pandas\\_libs\\parsers.pyx:1072\u001b[0m, in \u001b[0;36mpandas._libs.parsers.TextReader._convert_tokens\u001b[1;34m()\u001b[0m\n",
      "File \u001b[1;32m~\\anaconda3\\lib\\site-packages\\pandas\\_libs\\parsers.pyx:1172\u001b[0m, in \u001b[0;36mpandas._libs.parsers.TextReader._convert_with_dtype\u001b[1;34m()\u001b[0m\n",
      "File \u001b[1;32m~\\anaconda3\\lib\\site-packages\\pandas\\_libs\\parsers.pyx:1731\u001b[0m, in \u001b[0;36mpandas._libs.parsers._try_int64\u001b[1;34m()\u001b[0m\n",
      "\u001b[1;31mMemoryError\u001b[0m: Unable to allocate 2.00 MiB for an array with shape (262144,) and data type int64"
     ]
    }
   ],
   "source": [
    "#Reading anime file:\n",
    "animeDF = pd.read_csv(anime_file_path, sep=',', encoding='latin-1')\n",
    "#Reading rating file:\n",
    "ratingDF = pd.read_csv(rating_file_path, sep=',', encoding='latin-1')"
   ]
  },
  {
   "cell_type": "markdown",
   "id": "d3891761",
   "metadata": {},
   "source": [
    "Process nan data"
   ]
  },
  {
   "cell_type": "code",
   "execution_count": null,
   "id": "16f32723",
   "metadata": {},
   "outputs": [],
   "source": [
    "animeDF.dropna(inplace=True)\n",
    "ratingDF.dropna(inplace=True)"
   ]
  },
  {
   "cell_type": "code",
   "execution_count": null,
   "id": "c09fbb0e",
   "metadata": {},
   "outputs": [],
   "source": [
    "#Get n_users\n",
    "n_users = ratingDF[\"user_id\"].unique().shape[0]\n",
    "#Config ratingDF\n",
    "ratingDF = ratingDF[ratingDF[\"rating\"] > 5]\n",
    "ratingDF.loc[ratingDF[\"rating\"] == 6, \"rating\"] = 1\n",
    "ratingDF.loc[ratingDF[\"rating\"] == 7, \"rating\"] = 2\n",
    "ratingDF.loc[ratingDF[\"rating\"] == 8, \"rating\"] = 3\n",
    "ratingDF.loc[ratingDF[\"rating\"] == 9, \"rating\"] = 4\n",
    "ratingDF.loc[ratingDF[\"rating\"] == 10, \"rating\"] = 5"
   ]
  },
  {
   "cell_type": "code",
   "execution_count": 183,
   "id": "4779e531",
   "metadata": {},
   "outputs": [
    {
     "data": {
      "text/html": [
       "<div>\n",
       "<style scoped>\n",
       "    .dataframe tbody tr th:only-of-type {\n",
       "        vertical-align: middle;\n",
       "    }\n",
       "\n",
       "    .dataframe tbody tr th {\n",
       "        vertical-align: top;\n",
       "    }\n",
       "\n",
       "    .dataframe thead th {\n",
       "        text-align: right;\n",
       "    }\n",
       "</style>\n",
       "<table border=\"1\" class=\"dataframe\">\n",
       "  <thead>\n",
       "    <tr style=\"text-align: right;\">\n",
       "      <th></th>\n",
       "      <th>user_id</th>\n",
       "      <th>anime_id</th>\n",
       "      <th>rating</th>\n",
       "      <th>gender</th>\n",
       "    </tr>\n",
       "  </thead>\n",
       "  <tbody>\n",
       "    <tr>\n",
       "      <th>47</th>\n",
       "      <td>1</td>\n",
       "      <td>8074</td>\n",
       "      <td>10</td>\n",
       "      <td>5.0</td>\n",
       "    </tr>\n",
       "    <tr>\n",
       "      <th>81</th>\n",
       "      <td>1</td>\n",
       "      <td>11617</td>\n",
       "      <td>10</td>\n",
       "      <td>5.0</td>\n",
       "    </tr>\n",
       "    <tr>\n",
       "      <th>83</th>\n",
       "      <td>1</td>\n",
       "      <td>11757</td>\n",
       "      <td>10</td>\n",
       "      <td>5.0</td>\n",
       "    </tr>\n",
       "    <tr>\n",
       "      <th>101</th>\n",
       "      <td>1</td>\n",
       "      <td>15451</td>\n",
       "      <td>10</td>\n",
       "      <td>5.0</td>\n",
       "    </tr>\n",
       "    <tr>\n",
       "      <th>153</th>\n",
       "      <td>2</td>\n",
       "      <td>11771</td>\n",
       "      <td>10</td>\n",
       "      <td>5.0</td>\n",
       "    </tr>\n",
       "    <tr>\n",
       "      <th>...</th>\n",
       "      <td>...</td>\n",
       "      <td>...</td>\n",
       "      <td>...</td>\n",
       "      <td>...</td>\n",
       "    </tr>\n",
       "    <tr>\n",
       "      <th>7813732</th>\n",
       "      <td>73515</td>\n",
       "      <td>16512</td>\n",
       "      <td>7</td>\n",
       "      <td>2.0</td>\n",
       "    </tr>\n",
       "    <tr>\n",
       "      <th>7813733</th>\n",
       "      <td>73515</td>\n",
       "      <td>17187</td>\n",
       "      <td>9</td>\n",
       "      <td>4.0</td>\n",
       "    </tr>\n",
       "    <tr>\n",
       "      <th>7813734</th>\n",
       "      <td>73515</td>\n",
       "      <td>22145</td>\n",
       "      <td>10</td>\n",
       "      <td>5.0</td>\n",
       "    </tr>\n",
       "    <tr>\n",
       "      <th>7813735</th>\n",
       "      <td>73516</td>\n",
       "      <td>790</td>\n",
       "      <td>9</td>\n",
       "      <td>4.0</td>\n",
       "    </tr>\n",
       "    <tr>\n",
       "      <th>7813736</th>\n",
       "      <td>73516</td>\n",
       "      <td>8074</td>\n",
       "      <td>9</td>\n",
       "      <td>4.0</td>\n",
       "    </tr>\n",
       "  </tbody>\n",
       "</table>\n",
       "<p>5868892 rows × 4 columns</p>\n",
       "</div>"
      ],
      "text/plain": [
       "         user_id  anime_id  rating  gender\n",
       "47             1      8074      10     5.0\n",
       "81             1     11617      10     5.0\n",
       "83             1     11757      10     5.0\n",
       "101            1     15451      10     5.0\n",
       "153            2     11771      10     5.0\n",
       "...          ...       ...     ...     ...\n",
       "7813732    73515     16512       7     2.0\n",
       "7813733    73515     17187       9     4.0\n",
       "7813734    73515     22145      10     5.0\n",
       "7813735    73516       790       9     4.0\n",
       "7813736    73516      8074       9     4.0\n",
       "\n",
       "[5868892 rows x 4 columns]"
      ]
     },
     "execution_count": 183,
     "metadata": {},
     "output_type": "execute_result"
    }
   ],
   "source": [
    "ratingDF"
   ]
  },
  {
   "cell_type": "markdown",
   "id": "36b8ab1c",
   "metadata": {},
   "source": [
    "TF-IDF"
   ]
  },
  {
   "cell_type": "code",
   "execution_count": 168,
   "id": "1c670595",
   "metadata": {},
   "outputs": [
    {
     "data": {
      "text/plain": [
       "43"
      ]
     },
     "execution_count": 168,
     "metadata": {},
     "output_type": "execute_result"
    }
   ],
   "source": [
    "tf = TfidfVectorizer(analyzer=lambda s: (c for i in range(1,2)\n",
    "                                             for c in combinations(s.split(', '), r=i)))\n",
    "tfidf_matrix = tf.fit_transform(animeDF['genre'])\n",
    "tfidf_matrix.shape[1]"
   ]
  },
  {
   "cell_type": "code",
   "execution_count": 159,
   "id": "4e35ca9f",
   "metadata": {},
   "outputs": [],
   "source": [
    "#tf.get_feature_names()"
   ]
  },
  {
   "cell_type": "code",
   "execution_count": 160,
   "id": "16e85ee9",
   "metadata": {},
   "outputs": [],
   "source": [
    "tdidf_matrix_df = pd.DataFrame(tfidf_matrix.todense(), columns=tf.get_feature_names(), index=animeDF.name)"
   ]
  },
  {
   "cell_type": "code",
   "execution_count": 161,
   "id": "0fbfc75a",
   "metadata": {},
   "outputs": [
    {
     "data": {
      "text/html": [
       "<div>\n",
       "<style scoped>\n",
       "    .dataframe tbody tr th:only-of-type {\n",
       "        vertical-align: middle;\n",
       "    }\n",
       "\n",
       "    .dataframe tbody tr th {\n",
       "        vertical-align: top;\n",
       "    }\n",
       "\n",
       "    .dataframe thead th {\n",
       "        text-align: right;\n",
       "    }\n",
       "</style>\n",
       "<table border=\"1\" class=\"dataframe\">\n",
       "  <thead>\n",
       "    <tr style=\"text-align: right;\">\n",
       "      <th></th>\n",
       "      <th>(Action,)</th>\n",
       "      <th>(Adventure,)</th>\n",
       "      <th>(Cars,)</th>\n",
       "      <th>(Comedy,)</th>\n",
       "      <th>(Dementia,)</th>\n",
       "      <th>(Demons,)</th>\n",
       "      <th>(Drama,)</th>\n",
       "      <th>(Ecchi,)</th>\n",
       "      <th>(Fantasy,)</th>\n",
       "      <th>(Game,)</th>\n",
       "      <th>...</th>\n",
       "      <th>(Shounen Ai,)</th>\n",
       "      <th>(Slice of Life,)</th>\n",
       "      <th>(Space,)</th>\n",
       "      <th>(Sports,)</th>\n",
       "      <th>(Super Power,)</th>\n",
       "      <th>(Supernatural,)</th>\n",
       "      <th>(Thriller,)</th>\n",
       "      <th>(Vampire,)</th>\n",
       "      <th>(Yaoi,)</th>\n",
       "      <th>(Yuri,)</th>\n",
       "    </tr>\n",
       "    <tr>\n",
       "      <th>name</th>\n",
       "      <th></th>\n",
       "      <th></th>\n",
       "      <th></th>\n",
       "      <th></th>\n",
       "      <th></th>\n",
       "      <th></th>\n",
       "      <th></th>\n",
       "      <th></th>\n",
       "      <th></th>\n",
       "      <th></th>\n",
       "      <th></th>\n",
       "      <th></th>\n",
       "      <th></th>\n",
       "      <th></th>\n",
       "      <th></th>\n",
       "      <th></th>\n",
       "      <th></th>\n",
       "      <th></th>\n",
       "      <th></th>\n",
       "      <th></th>\n",
       "      <th></th>\n",
       "    </tr>\n",
       "  </thead>\n",
       "  <tbody>\n",
       "    <tr>\n",
       "      <th>Kimi no Na wa.</th>\n",
       "      <td>0.000000</td>\n",
       "      <td>0.000000</td>\n",
       "      <td>0.0</td>\n",
       "      <td>0.000000</td>\n",
       "      <td>0.0</td>\n",
       "      <td>0.0</td>\n",
       "      <td>0.439008</td>\n",
       "      <td>0.0</td>\n",
       "      <td>0.00000</td>\n",
       "      <td>0.0</td>\n",
       "      <td>...</td>\n",
       "      <td>0.0</td>\n",
       "      <td>0.0</td>\n",
       "      <td>0.0</td>\n",
       "      <td>0.0</td>\n",
       "      <td>0.0</td>\n",
       "      <td>0.545474</td>\n",
       "      <td>0.00000</td>\n",
       "      <td>0.0</td>\n",
       "      <td>0.0</td>\n",
       "      <td>0.0</td>\n",
       "    </tr>\n",
       "    <tr>\n",
       "      <th>Fullmetal Alchemist: Brotherhood</th>\n",
       "      <td>0.294537</td>\n",
       "      <td>0.315806</td>\n",
       "      <td>0.0</td>\n",
       "      <td>0.000000</td>\n",
       "      <td>0.0</td>\n",
       "      <td>0.0</td>\n",
       "      <td>0.334685</td>\n",
       "      <td>0.0</td>\n",
       "      <td>0.31968</td>\n",
       "      <td>0.0</td>\n",
       "      <td>...</td>\n",
       "      <td>0.0</td>\n",
       "      <td>0.0</td>\n",
       "      <td>0.0</td>\n",
       "      <td>0.0</td>\n",
       "      <td>0.0</td>\n",
       "      <td>0.000000</td>\n",
       "      <td>0.00000</td>\n",
       "      <td>0.0</td>\n",
       "      <td>0.0</td>\n",
       "      <td>0.0</td>\n",
       "    </tr>\n",
       "    <tr>\n",
       "      <th>GintamaÂ°</th>\n",
       "      <td>0.262021</td>\n",
       "      <td>0.000000</td>\n",
       "      <td>0.0</td>\n",
       "      <td>0.208687</td>\n",
       "      <td>0.0</td>\n",
       "      <td>0.0</td>\n",
       "      <td>0.000000</td>\n",
       "      <td>0.0</td>\n",
       "      <td>0.00000</td>\n",
       "      <td>0.0</td>\n",
       "      <td>...</td>\n",
       "      <td>0.0</td>\n",
       "      <td>0.0</td>\n",
       "      <td>0.0</td>\n",
       "      <td>0.0</td>\n",
       "      <td>0.0</td>\n",
       "      <td>0.000000</td>\n",
       "      <td>0.00000</td>\n",
       "      <td>0.0</td>\n",
       "      <td>0.0</td>\n",
       "      <td>0.0</td>\n",
       "    </tr>\n",
       "    <tr>\n",
       "      <th>Steins;Gate</th>\n",
       "      <td>0.000000</td>\n",
       "      <td>0.000000</td>\n",
       "      <td>0.0</td>\n",
       "      <td>0.000000</td>\n",
       "      <td>0.0</td>\n",
       "      <td>0.0</td>\n",
       "      <td>0.000000</td>\n",
       "      <td>0.0</td>\n",
       "      <td>0.00000</td>\n",
       "      <td>0.0</td>\n",
       "      <td>...</td>\n",
       "      <td>0.0</td>\n",
       "      <td>0.0</td>\n",
       "      <td>0.0</td>\n",
       "      <td>0.0</td>\n",
       "      <td>0.0</td>\n",
       "      <td>0.000000</td>\n",
       "      <td>0.90569</td>\n",
       "      <td>0.0</td>\n",
       "      <td>0.0</td>\n",
       "      <td>0.0</td>\n",
       "    </tr>\n",
       "    <tr>\n",
       "      <th>Gintama&amp;#039;</th>\n",
       "      <td>0.262021</td>\n",
       "      <td>0.000000</td>\n",
       "      <td>0.0</td>\n",
       "      <td>0.208687</td>\n",
       "      <td>0.0</td>\n",
       "      <td>0.0</td>\n",
       "      <td>0.000000</td>\n",
       "      <td>0.0</td>\n",
       "      <td>0.00000</td>\n",
       "      <td>0.0</td>\n",
       "      <td>...</td>\n",
       "      <td>0.0</td>\n",
       "      <td>0.0</td>\n",
       "      <td>0.0</td>\n",
       "      <td>0.0</td>\n",
       "      <td>0.0</td>\n",
       "      <td>0.000000</td>\n",
       "      <td>0.00000</td>\n",
       "      <td>0.0</td>\n",
       "      <td>0.0</td>\n",
       "      <td>0.0</td>\n",
       "    </tr>\n",
       "    <tr>\n",
       "      <th>...</th>\n",
       "      <td>...</td>\n",
       "      <td>...</td>\n",
       "      <td>...</td>\n",
       "      <td>...</td>\n",
       "      <td>...</td>\n",
       "      <td>...</td>\n",
       "      <td>...</td>\n",
       "      <td>...</td>\n",
       "      <td>...</td>\n",
       "      <td>...</td>\n",
       "      <td>...</td>\n",
       "      <td>...</td>\n",
       "      <td>...</td>\n",
       "      <td>...</td>\n",
       "      <td>...</td>\n",
       "      <td>...</td>\n",
       "      <td>...</td>\n",
       "      <td>...</td>\n",
       "      <td>...</td>\n",
       "      <td>...</td>\n",
       "      <td>...</td>\n",
       "    </tr>\n",
       "    <tr>\n",
       "      <th>Toushindai My Lover: Minami tai Mecha-Minami</th>\n",
       "      <td>0.000000</td>\n",
       "      <td>0.000000</td>\n",
       "      <td>0.0</td>\n",
       "      <td>0.000000</td>\n",
       "      <td>0.0</td>\n",
       "      <td>0.0</td>\n",
       "      <td>0.000000</td>\n",
       "      <td>0.0</td>\n",
       "      <td>0.00000</td>\n",
       "      <td>0.0</td>\n",
       "      <td>...</td>\n",
       "      <td>0.0</td>\n",
       "      <td>0.0</td>\n",
       "      <td>0.0</td>\n",
       "      <td>0.0</td>\n",
       "      <td>0.0</td>\n",
       "      <td>0.000000</td>\n",
       "      <td>0.00000</td>\n",
       "      <td>0.0</td>\n",
       "      <td>0.0</td>\n",
       "      <td>0.0</td>\n",
       "    </tr>\n",
       "    <tr>\n",
       "      <th>Under World</th>\n",
       "      <td>0.000000</td>\n",
       "      <td>0.000000</td>\n",
       "      <td>0.0</td>\n",
       "      <td>0.000000</td>\n",
       "      <td>0.0</td>\n",
       "      <td>0.0</td>\n",
       "      <td>0.000000</td>\n",
       "      <td>0.0</td>\n",
       "      <td>0.00000</td>\n",
       "      <td>0.0</td>\n",
       "      <td>...</td>\n",
       "      <td>0.0</td>\n",
       "      <td>0.0</td>\n",
       "      <td>0.0</td>\n",
       "      <td>0.0</td>\n",
       "      <td>0.0</td>\n",
       "      <td>0.000000</td>\n",
       "      <td>0.00000</td>\n",
       "      <td>0.0</td>\n",
       "      <td>0.0</td>\n",
       "      <td>0.0</td>\n",
       "    </tr>\n",
       "    <tr>\n",
       "      <th>Violence Gekiga David no Hoshi</th>\n",
       "      <td>0.000000</td>\n",
       "      <td>0.000000</td>\n",
       "      <td>0.0</td>\n",
       "      <td>0.000000</td>\n",
       "      <td>0.0</td>\n",
       "      <td>0.0</td>\n",
       "      <td>0.000000</td>\n",
       "      <td>0.0</td>\n",
       "      <td>0.00000</td>\n",
       "      <td>0.0</td>\n",
       "      <td>...</td>\n",
       "      <td>0.0</td>\n",
       "      <td>0.0</td>\n",
       "      <td>0.0</td>\n",
       "      <td>0.0</td>\n",
       "      <td>0.0</td>\n",
       "      <td>0.000000</td>\n",
       "      <td>0.00000</td>\n",
       "      <td>0.0</td>\n",
       "      <td>0.0</td>\n",
       "      <td>0.0</td>\n",
       "    </tr>\n",
       "    <tr>\n",
       "      <th>Violence Gekiga Shin David no Hoshi: Inma Densetsu</th>\n",
       "      <td>0.000000</td>\n",
       "      <td>0.000000</td>\n",
       "      <td>0.0</td>\n",
       "      <td>0.000000</td>\n",
       "      <td>0.0</td>\n",
       "      <td>0.0</td>\n",
       "      <td>0.000000</td>\n",
       "      <td>0.0</td>\n",
       "      <td>0.00000</td>\n",
       "      <td>0.0</td>\n",
       "      <td>...</td>\n",
       "      <td>0.0</td>\n",
       "      <td>0.0</td>\n",
       "      <td>0.0</td>\n",
       "      <td>0.0</td>\n",
       "      <td>0.0</td>\n",
       "      <td>0.000000</td>\n",
       "      <td>0.00000</td>\n",
       "      <td>0.0</td>\n",
       "      <td>0.0</td>\n",
       "      <td>0.0</td>\n",
       "    </tr>\n",
       "    <tr>\n",
       "      <th>Yasuji no Pornorama: Yacchimae!!</th>\n",
       "      <td>0.000000</td>\n",
       "      <td>0.000000</td>\n",
       "      <td>0.0</td>\n",
       "      <td>0.000000</td>\n",
       "      <td>0.0</td>\n",
       "      <td>0.0</td>\n",
       "      <td>0.000000</td>\n",
       "      <td>0.0</td>\n",
       "      <td>0.00000</td>\n",
       "      <td>0.0</td>\n",
       "      <td>...</td>\n",
       "      <td>0.0</td>\n",
       "      <td>0.0</td>\n",
       "      <td>0.0</td>\n",
       "      <td>0.0</td>\n",
       "      <td>0.0</td>\n",
       "      <td>0.000000</td>\n",
       "      <td>0.00000</td>\n",
       "      <td>0.0</td>\n",
       "      <td>0.0</td>\n",
       "      <td>0.0</td>\n",
       "    </tr>\n",
       "  </tbody>\n",
       "</table>\n",
       "<p>12017 rows × 43 columns</p>\n",
       "</div>"
      ],
      "text/plain": [
       "                                                    (Action,)  (Adventure,)  \\\n",
       "name                                                                          \n",
       "Kimi no Na wa.                                       0.000000      0.000000   \n",
       "Fullmetal Alchemist: Brotherhood                     0.294537      0.315806   \n",
       "GintamaÂ°                                            0.262021      0.000000   \n",
       "Steins;Gate                                          0.000000      0.000000   \n",
       "Gintama&#039;                                        0.262021      0.000000   \n",
       "...                                                       ...           ...   \n",
       "Toushindai My Lover: Minami tai Mecha-Minami         0.000000      0.000000   \n",
       "Under World                                          0.000000      0.000000   \n",
       "Violence Gekiga David no Hoshi                       0.000000      0.000000   \n",
       "Violence Gekiga Shin David no Hoshi: Inma Densetsu   0.000000      0.000000   \n",
       "Yasuji no Pornorama: Yacchimae!!                     0.000000      0.000000   \n",
       "\n",
       "                                                    (Cars,)  (Comedy,)  \\\n",
       "name                                                                     \n",
       "Kimi no Na wa.                                          0.0   0.000000   \n",
       "Fullmetal Alchemist: Brotherhood                        0.0   0.000000   \n",
       "GintamaÂ°                                               0.0   0.208687   \n",
       "Steins;Gate                                             0.0   0.000000   \n",
       "Gintama&#039;                                           0.0   0.208687   \n",
       "...                                                     ...        ...   \n",
       "Toushindai My Lover: Minami tai Mecha-Minami            0.0   0.000000   \n",
       "Under World                                             0.0   0.000000   \n",
       "Violence Gekiga David no Hoshi                          0.0   0.000000   \n",
       "Violence Gekiga Shin David no Hoshi: Inma Densetsu      0.0   0.000000   \n",
       "Yasuji no Pornorama: Yacchimae!!                        0.0   0.000000   \n",
       "\n",
       "                                                    (Dementia,)  (Demons,)  \\\n",
       "name                                                                         \n",
       "Kimi no Na wa.                                              0.0        0.0   \n",
       "Fullmetal Alchemist: Brotherhood                            0.0        0.0   \n",
       "GintamaÂ°                                                   0.0        0.0   \n",
       "Steins;Gate                                                 0.0        0.0   \n",
       "Gintama&#039;                                               0.0        0.0   \n",
       "...                                                         ...        ...   \n",
       "Toushindai My Lover: Minami tai Mecha-Minami                0.0        0.0   \n",
       "Under World                                                 0.0        0.0   \n",
       "Violence Gekiga David no Hoshi                              0.0        0.0   \n",
       "Violence Gekiga Shin David no Hoshi: Inma Densetsu          0.0        0.0   \n",
       "Yasuji no Pornorama: Yacchimae!!                            0.0        0.0   \n",
       "\n",
       "                                                    (Drama,)  (Ecchi,)  \\\n",
       "name                                                                     \n",
       "Kimi no Na wa.                                      0.439008       0.0   \n",
       "Fullmetal Alchemist: Brotherhood                    0.334685       0.0   \n",
       "GintamaÂ°                                           0.000000       0.0   \n",
       "Steins;Gate                                         0.000000       0.0   \n",
       "Gintama&#039;                                       0.000000       0.0   \n",
       "...                                                      ...       ...   \n",
       "Toushindai My Lover: Minami tai Mecha-Minami        0.000000       0.0   \n",
       "Under World                                         0.000000       0.0   \n",
       "Violence Gekiga David no Hoshi                      0.000000       0.0   \n",
       "Violence Gekiga Shin David no Hoshi: Inma Densetsu  0.000000       0.0   \n",
       "Yasuji no Pornorama: Yacchimae!!                    0.000000       0.0   \n",
       "\n",
       "                                                    (Fantasy,)  (Game,)  ...  \\\n",
       "name                                                                     ...   \n",
       "Kimi no Na wa.                                         0.00000      0.0  ...   \n",
       "Fullmetal Alchemist: Brotherhood                       0.31968      0.0  ...   \n",
       "GintamaÂ°                                              0.00000      0.0  ...   \n",
       "Steins;Gate                                            0.00000      0.0  ...   \n",
       "Gintama&#039;                                          0.00000      0.0  ...   \n",
       "...                                                        ...      ...  ...   \n",
       "Toushindai My Lover: Minami tai Mecha-Minami           0.00000      0.0  ...   \n",
       "Under World                                            0.00000      0.0  ...   \n",
       "Violence Gekiga David no Hoshi                         0.00000      0.0  ...   \n",
       "Violence Gekiga Shin David no Hoshi: Inma Densetsu     0.00000      0.0  ...   \n",
       "Yasuji no Pornorama: Yacchimae!!                       0.00000      0.0  ...   \n",
       "\n",
       "                                                    (Shounen Ai,)  \\\n",
       "name                                                                \n",
       "Kimi no Na wa.                                                0.0   \n",
       "Fullmetal Alchemist: Brotherhood                              0.0   \n",
       "GintamaÂ°                                                     0.0   \n",
       "Steins;Gate                                                   0.0   \n",
       "Gintama&#039;                                                 0.0   \n",
       "...                                                           ...   \n",
       "Toushindai My Lover: Minami tai Mecha-Minami                  0.0   \n",
       "Under World                                                   0.0   \n",
       "Violence Gekiga David no Hoshi                                0.0   \n",
       "Violence Gekiga Shin David no Hoshi: Inma Densetsu            0.0   \n",
       "Yasuji no Pornorama: Yacchimae!!                              0.0   \n",
       "\n",
       "                                                    (Slice of Life,)  \\\n",
       "name                                                                   \n",
       "Kimi no Na wa.                                                   0.0   \n",
       "Fullmetal Alchemist: Brotherhood                                 0.0   \n",
       "GintamaÂ°                                                        0.0   \n",
       "Steins;Gate                                                      0.0   \n",
       "Gintama&#039;                                                    0.0   \n",
       "...                                                              ...   \n",
       "Toushindai My Lover: Minami tai Mecha-Minami                     0.0   \n",
       "Under World                                                      0.0   \n",
       "Violence Gekiga David no Hoshi                                   0.0   \n",
       "Violence Gekiga Shin David no Hoshi: Inma Densetsu               0.0   \n",
       "Yasuji no Pornorama: Yacchimae!!                                 0.0   \n",
       "\n",
       "                                                    (Space,)  (Sports,)  \\\n",
       "name                                                                      \n",
       "Kimi no Na wa.                                           0.0        0.0   \n",
       "Fullmetal Alchemist: Brotherhood                         0.0        0.0   \n",
       "GintamaÂ°                                                0.0        0.0   \n",
       "Steins;Gate                                              0.0        0.0   \n",
       "Gintama&#039;                                            0.0        0.0   \n",
       "...                                                      ...        ...   \n",
       "Toushindai My Lover: Minami tai Mecha-Minami             0.0        0.0   \n",
       "Under World                                              0.0        0.0   \n",
       "Violence Gekiga David no Hoshi                           0.0        0.0   \n",
       "Violence Gekiga Shin David no Hoshi: Inma Densetsu       0.0        0.0   \n",
       "Yasuji no Pornorama: Yacchimae!!                         0.0        0.0   \n",
       "\n",
       "                                                    (Super Power,)  \\\n",
       "name                                                                 \n",
       "Kimi no Na wa.                                                 0.0   \n",
       "Fullmetal Alchemist: Brotherhood                               0.0   \n",
       "GintamaÂ°                                                      0.0   \n",
       "Steins;Gate                                                    0.0   \n",
       "Gintama&#039;                                                  0.0   \n",
       "...                                                            ...   \n",
       "Toushindai My Lover: Minami tai Mecha-Minami                   0.0   \n",
       "Under World                                                    0.0   \n",
       "Violence Gekiga David no Hoshi                                 0.0   \n",
       "Violence Gekiga Shin David no Hoshi: Inma Densetsu             0.0   \n",
       "Yasuji no Pornorama: Yacchimae!!                               0.0   \n",
       "\n",
       "                                                    (Supernatural,)  \\\n",
       "name                                                                  \n",
       "Kimi no Na wa.                                             0.545474   \n",
       "Fullmetal Alchemist: Brotherhood                           0.000000   \n",
       "GintamaÂ°                                                  0.000000   \n",
       "Steins;Gate                                                0.000000   \n",
       "Gintama&#039;                                              0.000000   \n",
       "...                                                             ...   \n",
       "Toushindai My Lover: Minami tai Mecha-Minami               0.000000   \n",
       "Under World                                                0.000000   \n",
       "Violence Gekiga David no Hoshi                             0.000000   \n",
       "Violence Gekiga Shin David no Hoshi: Inma Densetsu         0.000000   \n",
       "Yasuji no Pornorama: Yacchimae!!                           0.000000   \n",
       "\n",
       "                                                    (Thriller,)  (Vampire,)  \\\n",
       "name                                                                          \n",
       "Kimi no Na wa.                                          0.00000         0.0   \n",
       "Fullmetal Alchemist: Brotherhood                        0.00000         0.0   \n",
       "GintamaÂ°                                               0.00000         0.0   \n",
       "Steins;Gate                                             0.90569         0.0   \n",
       "Gintama&#039;                                           0.00000         0.0   \n",
       "...                                                         ...         ...   \n",
       "Toushindai My Lover: Minami tai Mecha-Minami            0.00000         0.0   \n",
       "Under World                                             0.00000         0.0   \n",
       "Violence Gekiga David no Hoshi                          0.00000         0.0   \n",
       "Violence Gekiga Shin David no Hoshi: Inma Densetsu      0.00000         0.0   \n",
       "Yasuji no Pornorama: Yacchimae!!                        0.00000         0.0   \n",
       "\n",
       "                                                    (Yaoi,)  (Yuri,)  \n",
       "name                                                                  \n",
       "Kimi no Na wa.                                          0.0      0.0  \n",
       "Fullmetal Alchemist: Brotherhood                        0.0      0.0  \n",
       "GintamaÂ°                                               0.0      0.0  \n",
       "Steins;Gate                                             0.0      0.0  \n",
       "Gintama&#039;                                           0.0      0.0  \n",
       "...                                                     ...      ...  \n",
       "Toushindai My Lover: Minami tai Mecha-Minami            0.0      0.0  \n",
       "Under World                                             0.0      0.0  \n",
       "Violence Gekiga David no Hoshi                          0.0      0.0  \n",
       "Violence Gekiga Shin David no Hoshi: Inma Densetsu      0.0      0.0  \n",
       "Yasuji no Pornorama: Yacchimae!!                        0.0      0.0  \n",
       "\n",
       "[12017 rows x 43 columns]"
      ]
     },
     "execution_count": 161,
     "metadata": {},
     "output_type": "execute_result"
    }
   ],
   "source": [
    "tdidf_matrix_df"
   ]
  },
  {
   "cell_type": "code",
   "execution_count": null,
   "id": "260ff941",
   "metadata": {},
   "outputs": [],
   "source": [
    "def get_items_rated_by_user(rate_matrix, user_id):\n",
    "    y = rate_matrix[:,0]\n",
    "    ids = np.where(y == user_id +1)[0]\n",
    "    item_ids = rate_matrix[ids, 1] - 1\n",
    "    scores = rate_matrix[ids, 2]\n",
    "    return (item_ids, scores)"
   ]
  },
  {
   "cell_type": "code",
   "execution_count": null,
   "id": "14a5e8cf",
   "metadata": {},
   "outputs": [],
   "source": [
    "d = tfidf.shape[1] # data dimension\n",
    "W = np.zeros((d, self.n_users))\n",
    "b = np.zeros((1, self.n_users))\n",
    "for n in range(self.n_users):    \n",
    "    ids, scores = get_items_rated_by_user(self.Y, n)\n",
    "    clf = Ridge(alpha= self.lamda, fit_intercept  = True)\n",
    "    Xhat = tfidf[ids, :]\n",
    "\n",
    "    clf.fit(Xhat, scores) \n",
    "    W[:, n] = clf.coef_\n",
    "    b[0, n] = clf.intercept_"
   ]
  }
 ],
 "metadata": {
  "kernelspec": {
   "display_name": "Python 3 (ipykernel)",
   "language": "python",
   "name": "python3"
  },
  "language_info": {
   "codemirror_mode": {
    "name": "ipython",
    "version": 3
   },
   "file_extension": ".py",
   "mimetype": "text/x-python",
   "name": "python",
   "nbconvert_exporter": "python",
   "pygments_lexer": "ipython3",
   "version": "3.9.12"
  },
  "vscode": {
   "interpreter": {
    "hash": "ff4b5c2742f77f69a96d5e9ce5123ac3550243876c0a3bcae77163366795a70c"
   }
  }
 },
 "nbformat": 4,
 "nbformat_minor": 5
}
